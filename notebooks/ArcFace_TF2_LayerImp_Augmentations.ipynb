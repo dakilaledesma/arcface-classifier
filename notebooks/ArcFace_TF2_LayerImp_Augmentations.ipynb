{
  "cells": [
    {
      "cell_type": "markdown",
      "metadata": {
        "id": "view-in-github",
        "colab_type": "text"
      },
      "source": [
        "<a href=\"https://colab.research.google.com/github/dakilaledesma/arcface-classifier/blob/main/notebooks/ArcFace_TF2_LayerImp_Augmentations.ipynb\" target=\"_parent\"><img src=\"https://colab.research.google.com/assets/colab-badge.svg\" alt=\"Open In Colab\"/></a>"
      ]
    },
    {
      "cell_type": "code",
      "execution_count": 1,
      "metadata": {
        "colab": {
          "base_uri": "https://localhost:8080/"
        },
        "id": "Gu4GFI1sPLlA",
        "outputId": "73e4acbe-97eb-4018-ff20-8517cc6d3cc7"
      },
      "outputs": [
        {
          "output_type": "stream",
          "name": "stdout",
          "text": [
            "CPU times: user 123 ms, sys: 26 ms, total: 149 ms\n",
            "Wall time: 20.3 s\n"
          ]
        }
      ],
      "source": [
        "%%time\n",
        "! unzip -q /content/drive/MyDrive/UNC/H2022/orchidaceae_train.zip -d /content/"
      ]
    },
    {
      "cell_type": "code",
      "execution_count": 2,
      "metadata": {
        "id": "dNMk9tixPI0v",
        "colab": {
          "base_uri": "https://localhost:8080/"
        },
        "outputId": "459d5cc2-a76f-4c55-81ff-b0a71bfcac59"
      },
      "outputs": [
        {
          "output_type": "stream",
          "name": "stdout",
          "text": [
            "Looking in indexes: https://pypi.org/simple, https://us-python.pkg.dev/colab-wheels/public/simple/\n",
            "Collecting tensorflow-addons\n",
            "  Downloading tensorflow_addons-0.17.1-cp37-cp37m-manylinux_2_17_x86_64.manylinux2014_x86_64.whl (1.1 MB)\n",
            "\u001b[K     |████████████████████████████████| 1.1 MB 14.3 MB/s \n",
            "\u001b[?25hRequirement already satisfied: typeguard>=2.7 in /usr/local/lib/python3.7/dist-packages (from tensorflow-addons) (2.7.1)\n",
            "Requirement already satisfied: packaging in /usr/local/lib/python3.7/dist-packages (from tensorflow-addons) (21.3)\n",
            "Requirement already satisfied: pyparsing!=3.0.5,>=2.0.2 in /usr/local/lib/python3.7/dist-packages (from packaging->tensorflow-addons) (3.0.9)\n",
            "Installing collected packages: tensorflow-addons\n",
            "Successfully installed tensorflow-addons-0.17.1\n"
          ]
        }
      ],
      "source": [
        "! pip install tensorflow-addons"
      ]
    },
    {
      "cell_type": "code",
      "execution_count": 3,
      "metadata": {
        "id": "IZXvk2iKNEtl"
      },
      "outputs": [],
      "source": [
        "from tensorflow.keras.applications.resnet50 import ResNet50, preprocess_input\n",
        "\n",
        "from tensorflow.keras import backend as K\n",
        "from tensorflow.keras.models import Model\n",
        "from tensorflow.keras.layers import Layer, Dense, Concatenate, Flatten, GlobalAveragePooling2D, Input\n",
        "from tensorflow.keras import regularizers\n",
        "from tensorflow.keras.callbacks import ModelCheckpoint\n",
        "from tensorflow.keras.preprocessing import image\n",
        "from tensorflow.keras.utils import to_categorical\n",
        "from sklearn.metrics import accuracy_score\n",
        "\n",
        "import numpy as np\n",
        "\n",
        "import tensorflow_addons as tfa\n",
        "import tensorflow as tf\n",
        "\n",
        "from tqdm.notebook import tqdm\n",
        "from glob import glob\n",
        "import os"
      ]
    },
    {
      "cell_type": "code",
      "execution_count": 4,
      "metadata": {
        "id": "1V5aOhxOL9yM"
      },
      "outputs": [],
      "source": [
        "# From https://github.com/ozora-ogino/asoftmax-tf/blob/main/asoftmax.py\n",
        "class ASoftmax(tf.keras.layers.Layer):\n",
        "    def __init__(\n",
        "        self,\n",
        "        n_classes=10,\n",
        "        scale=30.0,\n",
        "        margin=0.50,\n",
        "        regularizer=None,\n",
        "        **kwargs,\n",
        "    ):\n",
        "        \"\"\"[ASoftmax]\n",
        "        Args:\n",
        "            n_classes (int, optional): Number of class. Defaults to 10.\n",
        "            scale (float, optional): Float variable for scaling. Defaults to 30.0.\n",
        "            margin (float, optional): Float variable of margin. Defaults to 0.50.\n",
        "            regularizer (function, optional): keras.regularizers. Defaults to None.\n",
        "        \"\"\"\n",
        "\n",
        "        super(ASoftmax, self).__init__(**kwargs)\n",
        "        self.n_classes = n_classes\n",
        "        self.scale = scale\n",
        "        self.margin = margin\n",
        "        self.regularizer = regularizers.get(regularizer)\n",
        "\n",
        "    def build(self, input_shape):\n",
        "        super(ASoftmax, self).build(input_shape[0])\n",
        "        print(input_shape)\n",
        "        self.W = self.add_weight(\n",
        "            name=\"W\",\n",
        "            shape=(input_shape[0][-1], self.n_classes),\n",
        "            initializer=\"glorot_uniform\",\n",
        "            trainable=True,\n",
        "            regularizer=self.regularizer,\n",
        "        )\n",
        "\n",
        "    def _train_op(self, inputs):\n",
        "        x, y = inputs\n",
        "\n",
        "        # Normalization\n",
        "        x = tf.nn.l2_normalize(x, axis=1)\n",
        "        W = tf.nn.l2_normalize(self.W, axis=0)\n",
        "\n",
        "        # Dot product\n",
        "        logits = x @ W\n",
        "\n",
        "        # Add margin and clip logits to prevent zero division when backward\n",
        "        theta = tf.acos(K.clip(logits, -1.0 + K.epsilon(), 1.0 - K.epsilon()))\n",
        "        target_logits = tf.cos(theta + self.margin)\n",
        "        logits = logits * (1 - y) + target_logits * y\n",
        "\n",
        "        # Rescale the feature\n",
        "        logits *= self.scale\n",
        "        out = tf.nn.softmax(logits)\n",
        "        return out\n",
        "\n",
        "    def _predict_op(self, inputs):\n",
        "        # Normalization\n",
        "        x = tf.nn.l2_normalize(inputs, axis=1)\n",
        "        W = tf.nn.l2_normalize(self.W, axis=0)\n",
        "        logits = x @ W\n",
        "        out = tf.nn.softmax(logits)\n",
        "        return out\n",
        "\n",
        "    def call(self, inputs, training=False):\n",
        "        if training:\n",
        "            out = self._train_op(inputs)\n",
        "        else:\n",
        "            out = self._predict_op(inputs)\n",
        "        return out"
      ]
    },
    {
      "cell_type": "code",
      "execution_count": 5,
      "metadata": {
        "id": "j3v563jzRMX_"
      },
      "outputs": [],
      "source": [
        "num_classes = 300"
      ]
    },
    {
      "cell_type": "code",
      "execution_count": 6,
      "metadata": {
        "id": "xR9M4qw0nv3F"
      },
      "outputs": [],
      "source": [
        "train_datagen = image.ImageDataGenerator(\n",
        "      rotation_range=20,\n",
        "      width_shift_range=0.2,\n",
        "      height_shift_range=0.2,\n",
        "      shear_range=0.2,\n",
        "      zoom_range=0.2,\n",
        "      horizontal_flip=True,\n",
        "      vertical_flip=True,\n",
        "      fill_mode='nearest',\n",
        "      rescale=1./255)"
      ]
    },
    {
      "cell_type": "code",
      "execution_count": 7,
      "metadata": {
        "id": "NCYA8ivituEX"
      },
      "outputs": [],
      "source": [
        "# https://stackoverflow.com/questions/59921314/multi-input-model-with-flow-from-directory\n",
        "def af_generator(datagen, directory, target_size, batch_size):\n",
        "  gen = train_datagen.flow_from_directory(\n",
        "        directory,\n",
        "        target_size=target_size,\n",
        "        batch_size=batch_size,\n",
        "        class_mode='categorical')\n",
        "  \n",
        "  while True:\n",
        "    x = gen.next()\n",
        "    yield [x[0], x[1]], x[1]"
      ]
    },
    {
      "cell_type": "code",
      "execution_count": 8,
      "metadata": {
        "id": "S03N1ONfpyly"
      },
      "outputs": [],
      "source": [
        "train_generator = af_generator(\n",
        "    train_datagen,\n",
        "    'orchidaceae_train/',\n",
        "    (224, 224),\n",
        "    1)"
      ]
    },
    {
      "cell_type": "code",
      "execution_count": 9,
      "metadata": {
        "id": "QlQKLd9Yyw8h",
        "colab": {
          "base_uri": "https://localhost:8080/"
        },
        "outputId": "2c56f597-4462-4ca6-98ab-dda3e81a21c6"
      },
      "outputs": [
        {
          "output_type": "stream",
          "name": "stdout",
          "text": [
            "Found 9419 images belonging to 300 classes.\n"
          ]
        }
      ],
      "source": [
        "val_generator = train_datagen.flow_from_directory(\n",
        "    'orchidaceae_train/',\n",
        "    target_size=(224, 224),\n",
        "    batch_size=1,\n",
        "    class_mode='categorical')"
      ]
    },
    {
      "cell_type": "code",
      "source": [
        "x = []\n",
        "y = []\n",
        "for i in tqdm(range(47095), total=47095):\n",
        "  xv, yv = next(val_generator)\n",
        "  x.append(xv[0])\n",
        "  y.append(yv[0])"
      ],
      "metadata": {
        "id": "oqxgpMyoIuN1",
        "colab": {
          "base_uri": "https://localhost:8080/",
          "height": 49,
          "referenced_widgets": [
            "72cc858f31684c1fbf31696f6e4f00b4",
            "9af1abe0c9b34d3a94a324d718d62305",
            "60d4692b6b7b492caad6588b1dc140da",
            "c72f262930544dbd821766ff140effaf",
            "d198e181026b4460b8d60920220c71e8",
            "4a05da0736b044a0972f5d85b07f8742",
            "d90ad7a89a4a4363b9ad175d677e0d5b",
            "1fe125924dd240629dd6c2b8f55007ec",
            "f86392363e444b5fb3a6d7695bb57dc2",
            "3993b5f420b640c2b10c7a21df338f99",
            "aa22dff0e7c34b2ebc6a9121b2726e65"
          ]
        },
        "outputId": "be0dfbc5-5873-48ca-b3f2-43d2a519ac00"
      },
      "execution_count": 10,
      "outputs": [
        {
          "output_type": "display_data",
          "data": {
            "text/plain": [
              "  0%|          | 0/47095 [00:00<?, ?it/s]"
            ],
            "application/vnd.jupyter.widget-view+json": {
              "version_major": 2,
              "version_minor": 0,
              "model_id": "72cc858f31684c1fbf31696f6e4f00b4"
            }
          },
          "metadata": {}
        }
      ]
    },
    {
      "cell_type": "code",
      "execution_count": 11,
      "metadata": {
        "colab": {
          "base_uri": "https://localhost:8080/",
          "height": 471
        },
        "id": "Wcf78rlfNCbw",
        "outputId": "a11bd1f9-4b10-40f8-dee8-88df2d328ceb"
      },
      "outputs": [
        {
          "output_type": "stream",
          "name": "stdout",
          "text": [
            "Downloading data from https://storage.googleapis.com/tensorflow/keras-applications/resnet/resnet50_weights_tf_dim_ordering_tf_kernels_notop.h5\n",
            "94773248/94765736 [==============================] - 1s 0us/step\n",
            "94781440/94765736 [==============================] - 1s 0us/step\n"
          ]
        },
        {
          "output_type": "error",
          "ename": "InternalError",
          "evalue": "ignored",
          "traceback": [
            "\u001b[0;31m---------------------------------------------------------------------------\u001b[0m",
            "\u001b[0;31mInternalError\u001b[0m                             Traceback (most recent call last)",
            "\u001b[0;32m<ipython-input-11-19881a5b209a>\u001b[0m in \u001b[0;36m<module>\u001b[0;34m()\u001b[0m\n\u001b[1;32m     40\u001b[0m       \u001b[0my\u001b[0m\u001b[0;34m=\u001b[0m\u001b[0my\u001b[0m\u001b[0;34m,\u001b[0m\u001b[0;34m\u001b[0m\u001b[0;34m\u001b[0m\u001b[0m\n\u001b[1;32m     41\u001b[0m       \u001b[0mepochs\u001b[0m\u001b[0;34m=\u001b[0m\u001b[0;36m100\u001b[0m\u001b[0;34m,\u001b[0m\u001b[0;34m\u001b[0m\u001b[0;34m\u001b[0m\u001b[0m\n\u001b[0;32m---> 42\u001b[0;31m       verbose=2)\n\u001b[0m",
            "\u001b[0;32m/usr/local/lib/python3.7/dist-packages/keras/utils/traceback_utils.py\u001b[0m in \u001b[0;36merror_handler\u001b[0;34m(*args, **kwargs)\u001b[0m\n\u001b[1;32m     65\u001b[0m     \u001b[0;32mexcept\u001b[0m \u001b[0mException\u001b[0m \u001b[0;32mas\u001b[0m \u001b[0me\u001b[0m\u001b[0;34m:\u001b[0m  \u001b[0;31m# pylint: disable=broad-except\u001b[0m\u001b[0;34m\u001b[0m\u001b[0;34m\u001b[0m\u001b[0m\n\u001b[1;32m     66\u001b[0m       \u001b[0mfiltered_tb\u001b[0m \u001b[0;34m=\u001b[0m \u001b[0m_process_traceback_frames\u001b[0m\u001b[0;34m(\u001b[0m\u001b[0me\u001b[0m\u001b[0;34m.\u001b[0m\u001b[0m__traceback__\u001b[0m\u001b[0;34m)\u001b[0m\u001b[0;34m\u001b[0m\u001b[0;34m\u001b[0m\u001b[0m\n\u001b[0;32m---> 67\u001b[0;31m       \u001b[0;32mraise\u001b[0m \u001b[0me\u001b[0m\u001b[0;34m.\u001b[0m\u001b[0mwith_traceback\u001b[0m\u001b[0;34m(\u001b[0m\u001b[0mfiltered_tb\u001b[0m\u001b[0;34m)\u001b[0m \u001b[0;32mfrom\u001b[0m \u001b[0;32mNone\u001b[0m\u001b[0;34m\u001b[0m\u001b[0;34m\u001b[0m\u001b[0m\n\u001b[0m\u001b[1;32m     68\u001b[0m     \u001b[0;32mfinally\u001b[0m\u001b[0;34m:\u001b[0m\u001b[0;34m\u001b[0m\u001b[0;34m\u001b[0m\u001b[0m\n\u001b[1;32m     69\u001b[0m       \u001b[0;32mdel\u001b[0m \u001b[0mfiltered_tb\u001b[0m\u001b[0;34m\u001b[0m\u001b[0;34m\u001b[0m\u001b[0m\n",
            "\u001b[0;32m/usr/local/lib/python3.7/dist-packages/tensorflow/python/framework/constant_op.py\u001b[0m in \u001b[0;36mconvert_to_eager_tensor\u001b[0;34m(value, ctx, dtype)\u001b[0m\n\u001b[1;32m    100\u001b[0m       \u001b[0mdtype\u001b[0m \u001b[0;34m=\u001b[0m \u001b[0mdtypes\u001b[0m\u001b[0;34m.\u001b[0m\u001b[0mas_dtype\u001b[0m\u001b[0;34m(\u001b[0m\u001b[0mdtype\u001b[0m\u001b[0;34m)\u001b[0m\u001b[0;34m.\u001b[0m\u001b[0mas_datatype_enum\u001b[0m\u001b[0;34m\u001b[0m\u001b[0;34m\u001b[0m\u001b[0m\n\u001b[1;32m    101\u001b[0m   \u001b[0mctx\u001b[0m\u001b[0;34m.\u001b[0m\u001b[0mensure_initialized\u001b[0m\u001b[0;34m(\u001b[0m\u001b[0;34m)\u001b[0m\u001b[0;34m\u001b[0m\u001b[0;34m\u001b[0m\u001b[0m\n\u001b[0;32m--> 102\u001b[0;31m   \u001b[0;32mreturn\u001b[0m \u001b[0mops\u001b[0m\u001b[0;34m.\u001b[0m\u001b[0mEagerTensor\u001b[0m\u001b[0;34m(\u001b[0m\u001b[0mvalue\u001b[0m\u001b[0;34m,\u001b[0m \u001b[0mctx\u001b[0m\u001b[0;34m.\u001b[0m\u001b[0mdevice_name\u001b[0m\u001b[0;34m,\u001b[0m \u001b[0mdtype\u001b[0m\u001b[0;34m)\u001b[0m\u001b[0;34m\u001b[0m\u001b[0;34m\u001b[0m\u001b[0m\n\u001b[0m\u001b[1;32m    103\u001b[0m \u001b[0;34m\u001b[0m\u001b[0m\n\u001b[1;32m    104\u001b[0m \u001b[0;34m\u001b[0m\u001b[0m\n",
            "\u001b[0;31mInternalError\u001b[0m: Failed copying input tensor from /job:localhost/replica:0/task:0/device:CPU:0 to /job:localhost/replica:0/task:0/device:GPU:0 in order to run _EagerConst: Dst tensor is not initialized."
          ]
        }
      ],
      "source": [
        "class AFModel(Model):\n",
        "  def __init__(self, num_classes=300, weight_decay=1e-4):\n",
        "        super(AFModel, self).__init__()\n",
        "        self.label_input = Input(shape=(num_classes,))\n",
        "        self.backbone = ResNet50(\n",
        "            input_shape=(224, 224, 3), \n",
        "            weights='imagenet', \n",
        "            include_top=False)\n",
        "        self.layer_1 = GlobalAveragePooling2D()\n",
        "        self.layer_2 = Dense(512, activation='relu')\n",
        "\n",
        "        self.out = ASoftmax(\n",
        "            n_classes=num_classes,\n",
        "            regularizer=regularizers.l2(weight_decay),\n",
        "        )\n",
        "\n",
        "  def call(self, x, training=False):\n",
        "      if training:\n",
        "          x, y = x[0], x[1]\n",
        "      x = self.backbone(x)\n",
        "      x = self.layer_1(x)\n",
        "      x = self.layer_2(x)\n",
        "\n",
        "      if training:\n",
        "          # When training, you need to pass label to ASoftmax\n",
        "          out = self.out([x, y])\n",
        "      else:\n",
        "          out = self.out(x)\n",
        "      return out\n",
        "\n",
        "model = AFModel()\n",
        "\n",
        "opt = tfa.optimizers.AdaBelief(learning_rate=1e-3)\n",
        "model.compile(loss='categorical_crossentropy',\n",
        "              optimizer=opt,\n",
        "              metrics=['accuracy'])\n",
        "\n",
        "model.fit(\n",
        "      x=[x, y],\n",
        "      y=y,\n",
        "      epochs=100,\n",
        "      verbose=2)"
      ]
    },
    {
      "cell_type": "code",
      "execution_count": null,
      "metadata": {
        "id": "fMRw_iR4S9FF"
      },
      "outputs": [],
      "source": [
        "%%time\n",
        "! unzip -q /content/drive/MyDrive/UNC/H2022/orchidaceae_test.zip -d /content/"
      ]
    },
    {
      "cell_type": "code",
      "execution_count": null,
      "metadata": {
        "id": "U9NaToo2wHaQ"
      },
      "outputs": [],
      "source": [
        "test_x = []\n",
        "test_y = []\n",
        "orc_test = sorted(glob(\"orchidaceae_test/**/*.*\", recursive=True))\n",
        "for fn in tqdm(orc_test, total=len(list(orc_test))):\n",
        "  bn =  os.path.basename(fn)\n",
        "  cat = cat_to_int[fn.split(\"/\")[-2]]\n",
        "\n",
        "  img = image.load_img(fn, target_size=(224, 224))\n",
        "  x = image.img_to_array(img)\n",
        "  x = preprocess_input(x)\n",
        "  test_x.append(x)\n",
        "\n",
        "  test_y.append(cat)"
      ]
    },
    {
      "cell_type": "code",
      "execution_count": null,
      "metadata": {
        "id": "aOwn-kZG0LwR"
      },
      "outputs": [],
      "source": [
        "test_x = np.array(test_x)"
      ]
    },
    {
      "cell_type": "code",
      "execution_count": null,
      "metadata": {
        "id": "i4vArwUX0239"
      },
      "outputs": [],
      "source": [
        "preds = []\n",
        "for idx, im in tqdm(enumerate(test_x), total=len(test_x)):\n",
        "  im = np.expand_dims(im, 0)\n",
        "  pred = np.argmax(model(im))\n",
        "  preds.append(pred)"
      ]
    },
    {
      "cell_type": "code",
      "execution_count": null,
      "metadata": {
        "id": "DrZDkCzb1fXx"
      },
      "outputs": [],
      "source": [
        "# Accuracy on training data\n",
        "print(accuracy_score(test_y, preds))"
      ]
    },
    {
      "cell_type": "code",
      "execution_count": null,
      "metadata": {
        "id": "dwdj1xst4dmW"
      },
      "outputs": [],
      "source": [
        "# Accuracy on test data\n",
        "print(accuracy_score(test_y, preds))"
      ]
    },
    {
      "cell_type": "code",
      "execution_count": null,
      "metadata": {
        "id": "f1EaXfPv48sA"
      },
      "outputs": [],
      "source": [
        "model.save_weights(\"arcface_orcl_1_max\")"
      ]
    },
    {
      "cell_type": "code",
      "execution_count": null,
      "metadata": {
        "id": "SxKdjll9BlDl"
      },
      "outputs": [],
      "source": [
        ""
      ]
    }
  ],
  "metadata": {
    "accelerator": "GPU",
    "colab": {
      "machine_shape": "hm",
      "name": "ArcFace_TF2_LayerImp_Augmentations",
      "provenance": [],
      "mount_file_id": "1SyTe7qRpZW9cETfve9E2UigOr8yZip1L",
      "authorship_tag": "ABX9TyNeF6s2lD+DZqUSVTyRPCdM",
      "include_colab_link": true
    },
    "gpuClass": "standard",
    "kernelspec": {
      "display_name": "Python 3",
      "name": "python3"
    },
    "language_info": {
      "name": "python"
    },
    "widgets": {
      "application/vnd.jupyter.widget-state+json": {
        "72cc858f31684c1fbf31696f6e4f00b4": {
          "model_module": "@jupyter-widgets/controls",
          "model_name": "HBoxModel",
          "model_module_version": "1.5.0",
          "state": {
            "_dom_classes": [],
            "_model_module": "@jupyter-widgets/controls",
            "_model_module_version": "1.5.0",
            "_model_name": "HBoxModel",
            "_view_count": null,
            "_view_module": "@jupyter-widgets/controls",
            "_view_module_version": "1.5.0",
            "_view_name": "HBoxView",
            "box_style": "",
            "children": [
              "IPY_MODEL_9af1abe0c9b34d3a94a324d718d62305",
              "IPY_MODEL_60d4692b6b7b492caad6588b1dc140da",
              "IPY_MODEL_c72f262930544dbd821766ff140effaf"
            ],
            "layout": "IPY_MODEL_d198e181026b4460b8d60920220c71e8"
          }
        },
        "9af1abe0c9b34d3a94a324d718d62305": {
          "model_module": "@jupyter-widgets/controls",
          "model_name": "HTMLModel",
          "model_module_version": "1.5.0",
          "state": {
            "_dom_classes": [],
            "_model_module": "@jupyter-widgets/controls",
            "_model_module_version": "1.5.0",
            "_model_name": "HTMLModel",
            "_view_count": null,
            "_view_module": "@jupyter-widgets/controls",
            "_view_module_version": "1.5.0",
            "_view_name": "HTMLView",
            "description": "",
            "description_tooltip": null,
            "layout": "IPY_MODEL_4a05da0736b044a0972f5d85b07f8742",
            "placeholder": "​",
            "style": "IPY_MODEL_d90ad7a89a4a4363b9ad175d677e0d5b",
            "value": "100%"
          }
        },
        "60d4692b6b7b492caad6588b1dc140da": {
          "model_module": "@jupyter-widgets/controls",
          "model_name": "FloatProgressModel",
          "model_module_version": "1.5.0",
          "state": {
            "_dom_classes": [],
            "_model_module": "@jupyter-widgets/controls",
            "_model_module_version": "1.5.0",
            "_model_name": "FloatProgressModel",
            "_view_count": null,
            "_view_module": "@jupyter-widgets/controls",
            "_view_module_version": "1.5.0",
            "_view_name": "ProgressView",
            "bar_style": "success",
            "description": "",
            "description_tooltip": null,
            "layout": "IPY_MODEL_1fe125924dd240629dd6c2b8f55007ec",
            "max": 47095,
            "min": 0,
            "orientation": "horizontal",
            "style": "IPY_MODEL_f86392363e444b5fb3a6d7695bb57dc2",
            "value": 47095
          }
        },
        "c72f262930544dbd821766ff140effaf": {
          "model_module": "@jupyter-widgets/controls",
          "model_name": "HTMLModel",
          "model_module_version": "1.5.0",
          "state": {
            "_dom_classes": [],
            "_model_module": "@jupyter-widgets/controls",
            "_model_module_version": "1.5.0",
            "_model_name": "HTMLModel",
            "_view_count": null,
            "_view_module": "@jupyter-widgets/controls",
            "_view_module_version": "1.5.0",
            "_view_name": "HTMLView",
            "description": "",
            "description_tooltip": null,
            "layout": "IPY_MODEL_3993b5f420b640c2b10c7a21df338f99",
            "placeholder": "​",
            "style": "IPY_MODEL_aa22dff0e7c34b2ebc6a9121b2726e65",
            "value": " 47095/47095 [14:52&lt;00:00, 51.62it/s]"
          }
        },
        "d198e181026b4460b8d60920220c71e8": {
          "model_module": "@jupyter-widgets/base",
          "model_name": "LayoutModel",
          "model_module_version": "1.2.0",
          "state": {
            "_model_module": "@jupyter-widgets/base",
            "_model_module_version": "1.2.0",
            "_model_name": "LayoutModel",
            "_view_count": null,
            "_view_module": "@jupyter-widgets/base",
            "_view_module_version": "1.2.0",
            "_view_name": "LayoutView",
            "align_content": null,
            "align_items": null,
            "align_self": null,
            "border": null,
            "bottom": null,
            "display": null,
            "flex": null,
            "flex_flow": null,
            "grid_area": null,
            "grid_auto_columns": null,
            "grid_auto_flow": null,
            "grid_auto_rows": null,
            "grid_column": null,
            "grid_gap": null,
            "grid_row": null,
            "grid_template_areas": null,
            "grid_template_columns": null,
            "grid_template_rows": null,
            "height": null,
            "justify_content": null,
            "justify_items": null,
            "left": null,
            "margin": null,
            "max_height": null,
            "max_width": null,
            "min_height": null,
            "min_width": null,
            "object_fit": null,
            "object_position": null,
            "order": null,
            "overflow": null,
            "overflow_x": null,
            "overflow_y": null,
            "padding": null,
            "right": null,
            "top": null,
            "visibility": null,
            "width": null
          }
        },
        "4a05da0736b044a0972f5d85b07f8742": {
          "model_module": "@jupyter-widgets/base",
          "model_name": "LayoutModel",
          "model_module_version": "1.2.0",
          "state": {
            "_model_module": "@jupyter-widgets/base",
            "_model_module_version": "1.2.0",
            "_model_name": "LayoutModel",
            "_view_count": null,
            "_view_module": "@jupyter-widgets/base",
            "_view_module_version": "1.2.0",
            "_view_name": "LayoutView",
            "align_content": null,
            "align_items": null,
            "align_self": null,
            "border": null,
            "bottom": null,
            "display": null,
            "flex": null,
            "flex_flow": null,
            "grid_area": null,
            "grid_auto_columns": null,
            "grid_auto_flow": null,
            "grid_auto_rows": null,
            "grid_column": null,
            "grid_gap": null,
            "grid_row": null,
            "grid_template_areas": null,
            "grid_template_columns": null,
            "grid_template_rows": null,
            "height": null,
            "justify_content": null,
            "justify_items": null,
            "left": null,
            "margin": null,
            "max_height": null,
            "max_width": null,
            "min_height": null,
            "min_width": null,
            "object_fit": null,
            "object_position": null,
            "order": null,
            "overflow": null,
            "overflow_x": null,
            "overflow_y": null,
            "padding": null,
            "right": null,
            "top": null,
            "visibility": null,
            "width": null
          }
        },
        "d90ad7a89a4a4363b9ad175d677e0d5b": {
          "model_module": "@jupyter-widgets/controls",
          "model_name": "DescriptionStyleModel",
          "model_module_version": "1.5.0",
          "state": {
            "_model_module": "@jupyter-widgets/controls",
            "_model_module_version": "1.5.0",
            "_model_name": "DescriptionStyleModel",
            "_view_count": null,
            "_view_module": "@jupyter-widgets/base",
            "_view_module_version": "1.2.0",
            "_view_name": "StyleView",
            "description_width": ""
          }
        },
        "1fe125924dd240629dd6c2b8f55007ec": {
          "model_module": "@jupyter-widgets/base",
          "model_name": "LayoutModel",
          "model_module_version": "1.2.0",
          "state": {
            "_model_module": "@jupyter-widgets/base",
            "_model_module_version": "1.2.0",
            "_model_name": "LayoutModel",
            "_view_count": null,
            "_view_module": "@jupyter-widgets/base",
            "_view_module_version": "1.2.0",
            "_view_name": "LayoutView",
            "align_content": null,
            "align_items": null,
            "align_self": null,
            "border": null,
            "bottom": null,
            "display": null,
            "flex": null,
            "flex_flow": null,
            "grid_area": null,
            "grid_auto_columns": null,
            "grid_auto_flow": null,
            "grid_auto_rows": null,
            "grid_column": null,
            "grid_gap": null,
            "grid_row": null,
            "grid_template_areas": null,
            "grid_template_columns": null,
            "grid_template_rows": null,
            "height": null,
            "justify_content": null,
            "justify_items": null,
            "left": null,
            "margin": null,
            "max_height": null,
            "max_width": null,
            "min_height": null,
            "min_width": null,
            "object_fit": null,
            "object_position": null,
            "order": null,
            "overflow": null,
            "overflow_x": null,
            "overflow_y": null,
            "padding": null,
            "right": null,
            "top": null,
            "visibility": null,
            "width": null
          }
        },
        "f86392363e444b5fb3a6d7695bb57dc2": {
          "model_module": "@jupyter-widgets/controls",
          "model_name": "ProgressStyleModel",
          "model_module_version": "1.5.0",
          "state": {
            "_model_module": "@jupyter-widgets/controls",
            "_model_module_version": "1.5.0",
            "_model_name": "ProgressStyleModel",
            "_view_count": null,
            "_view_module": "@jupyter-widgets/base",
            "_view_module_version": "1.2.0",
            "_view_name": "StyleView",
            "bar_color": null,
            "description_width": ""
          }
        },
        "3993b5f420b640c2b10c7a21df338f99": {
          "model_module": "@jupyter-widgets/base",
          "model_name": "LayoutModel",
          "model_module_version": "1.2.0",
          "state": {
            "_model_module": "@jupyter-widgets/base",
            "_model_module_version": "1.2.0",
            "_model_name": "LayoutModel",
            "_view_count": null,
            "_view_module": "@jupyter-widgets/base",
            "_view_module_version": "1.2.0",
            "_view_name": "LayoutView",
            "align_content": null,
            "align_items": null,
            "align_self": null,
            "border": null,
            "bottom": null,
            "display": null,
            "flex": null,
            "flex_flow": null,
            "grid_area": null,
            "grid_auto_columns": null,
            "grid_auto_flow": null,
            "grid_auto_rows": null,
            "grid_column": null,
            "grid_gap": null,
            "grid_row": null,
            "grid_template_areas": null,
            "grid_template_columns": null,
            "grid_template_rows": null,
            "height": null,
            "justify_content": null,
            "justify_items": null,
            "left": null,
            "margin": null,
            "max_height": null,
            "max_width": null,
            "min_height": null,
            "min_width": null,
            "object_fit": null,
            "object_position": null,
            "order": null,
            "overflow": null,
            "overflow_x": null,
            "overflow_y": null,
            "padding": null,
            "right": null,
            "top": null,
            "visibility": null,
            "width": null
          }
        },
        "aa22dff0e7c34b2ebc6a9121b2726e65": {
          "model_module": "@jupyter-widgets/controls",
          "model_name": "DescriptionStyleModel",
          "model_module_version": "1.5.0",
          "state": {
            "_model_module": "@jupyter-widgets/controls",
            "_model_module_version": "1.5.0",
            "_model_name": "DescriptionStyleModel",
            "_view_count": null,
            "_view_module": "@jupyter-widgets/base",
            "_view_module_version": "1.2.0",
            "_view_name": "StyleView",
            "description_width": ""
          }
        }
      }
    }
  },
  "nbformat": 4,
  "nbformat_minor": 0
}