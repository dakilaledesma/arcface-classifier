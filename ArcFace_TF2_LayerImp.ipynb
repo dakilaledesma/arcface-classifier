{
  "nbformat": 4,
  "nbformat_minor": 0,
  "metadata": {
    "colab": {
      "name": "ArcFace_TF2_LayerImp",
      "provenance": [],
      "machine_shape": "hm",
      "mount_file_id": "1fo5rYC51V0mjwF8axJ0f9nSGeBtgtbOj",
      "authorship_tag": "ABX9TyPjpjnvz5NLTtrd6AZATyyo",
      "include_colab_link": true
    },
    "kernelspec": {
      "name": "python3",
      "display_name": "Python 3"
    },
    "language_info": {
      "name": "python"
    },
    "accelerator": "GPU",
    "gpuClass": "standard",
    "widgets": {
      "application/vnd.jupyter.widget-state+json": {
        "4f787b8b1f0147ca8b0a4af9f1b9ae9a": {
          "model_module": "@jupyter-widgets/controls",
          "model_name": "HBoxModel",
          "model_module_version": "1.5.0",
          "state": {
            "_dom_classes": [],
            "_model_module": "@jupyter-widgets/controls",
            "_model_module_version": "1.5.0",
            "_model_name": "HBoxModel",
            "_view_count": null,
            "_view_module": "@jupyter-widgets/controls",
            "_view_module_version": "1.5.0",
            "_view_name": "HBoxView",
            "box_style": "",
            "children": [
              "IPY_MODEL_fe9904562f8c495b88b5ce0ea663d35e",
              "IPY_MODEL_f3abde65f57044ca96cc0635632d0797",
              "IPY_MODEL_9f702446c5c3415db42cf4323d5dc143"
            ],
            "layout": "IPY_MODEL_4c7d3839ac20424c8b3243653a7389c6"
          }
        },
        "fe9904562f8c495b88b5ce0ea663d35e": {
          "model_module": "@jupyter-widgets/controls",
          "model_name": "HTMLModel",
          "model_module_version": "1.5.0",
          "state": {
            "_dom_classes": [],
            "_model_module": "@jupyter-widgets/controls",
            "_model_module_version": "1.5.0",
            "_model_name": "HTMLModel",
            "_view_count": null,
            "_view_module": "@jupyter-widgets/controls",
            "_view_module_version": "1.5.0",
            "_view_name": "HTMLView",
            "description": "",
            "description_tooltip": null,
            "layout": "IPY_MODEL_c12b76cc1387458693f9b3050a815f14",
            "placeholder": "​",
            "style": "IPY_MODEL_838e50d69a894116afbdf8ede83a2471",
            "value": "100%"
          }
        },
        "f3abde65f57044ca96cc0635632d0797": {
          "model_module": "@jupyter-widgets/controls",
          "model_name": "FloatProgressModel",
          "model_module_version": "1.5.0",
          "state": {
            "_dom_classes": [],
            "_model_module": "@jupyter-widgets/controls",
            "_model_module_version": "1.5.0",
            "_model_name": "FloatProgressModel",
            "_view_count": null,
            "_view_module": "@jupyter-widgets/controls",
            "_view_module_version": "1.5.0",
            "_view_name": "ProgressView",
            "bar_style": "success",
            "description": "",
            "description_tooltip": null,
            "layout": "IPY_MODEL_c7000ef824fe4c35abdedf7f614b76c8",
            "max": 9419,
            "min": 0,
            "orientation": "horizontal",
            "style": "IPY_MODEL_8b64988579a34ea4980047351ffaf477",
            "value": 9419
          }
        },
        "9f702446c5c3415db42cf4323d5dc143": {
          "model_module": "@jupyter-widgets/controls",
          "model_name": "HTMLModel",
          "model_module_version": "1.5.0",
          "state": {
            "_dom_classes": [],
            "_model_module": "@jupyter-widgets/controls",
            "_model_module_version": "1.5.0",
            "_model_name": "HTMLModel",
            "_view_count": null,
            "_view_module": "@jupyter-widgets/controls",
            "_view_module_version": "1.5.0",
            "_view_name": "HTMLView",
            "description": "",
            "description_tooltip": null,
            "layout": "IPY_MODEL_795642fef6b54abfb4763b183acaa1ad",
            "placeholder": "​",
            "style": "IPY_MODEL_5ebb5bc0cb974bfc934766ab5c36dea1",
            "value": " 9419/9419 [01:46&lt;00:00, 91.81it/s]"
          }
        },
        "4c7d3839ac20424c8b3243653a7389c6": {
          "model_module": "@jupyter-widgets/base",
          "model_name": "LayoutModel",
          "model_module_version": "1.2.0",
          "state": {
            "_model_module": "@jupyter-widgets/base",
            "_model_module_version": "1.2.0",
            "_model_name": "LayoutModel",
            "_view_count": null,
            "_view_module": "@jupyter-widgets/base",
            "_view_module_version": "1.2.0",
            "_view_name": "LayoutView",
            "align_content": null,
            "align_items": null,
            "align_self": null,
            "border": null,
            "bottom": null,
            "display": null,
            "flex": null,
            "flex_flow": null,
            "grid_area": null,
            "grid_auto_columns": null,
            "grid_auto_flow": null,
            "grid_auto_rows": null,
            "grid_column": null,
            "grid_gap": null,
            "grid_row": null,
            "grid_template_areas": null,
            "grid_template_columns": null,
            "grid_template_rows": null,
            "height": null,
            "justify_content": null,
            "justify_items": null,
            "left": null,
            "margin": null,
            "max_height": null,
            "max_width": null,
            "min_height": null,
            "min_width": null,
            "object_fit": null,
            "object_position": null,
            "order": null,
            "overflow": null,
            "overflow_x": null,
            "overflow_y": null,
            "padding": null,
            "right": null,
            "top": null,
            "visibility": null,
            "width": null
          }
        },
        "c12b76cc1387458693f9b3050a815f14": {
          "model_module": "@jupyter-widgets/base",
          "model_name": "LayoutModel",
          "model_module_version": "1.2.0",
          "state": {
            "_model_module": "@jupyter-widgets/base",
            "_model_module_version": "1.2.0",
            "_model_name": "LayoutModel",
            "_view_count": null,
            "_view_module": "@jupyter-widgets/base",
            "_view_module_version": "1.2.0",
            "_view_name": "LayoutView",
            "align_content": null,
            "align_items": null,
            "align_self": null,
            "border": null,
            "bottom": null,
            "display": null,
            "flex": null,
            "flex_flow": null,
            "grid_area": null,
            "grid_auto_columns": null,
            "grid_auto_flow": null,
            "grid_auto_rows": null,
            "grid_column": null,
            "grid_gap": null,
            "grid_row": null,
            "grid_template_areas": null,
            "grid_template_columns": null,
            "grid_template_rows": null,
            "height": null,
            "justify_content": null,
            "justify_items": null,
            "left": null,
            "margin": null,
            "max_height": null,
            "max_width": null,
            "min_height": null,
            "min_width": null,
            "object_fit": null,
            "object_position": null,
            "order": null,
            "overflow": null,
            "overflow_x": null,
            "overflow_y": null,
            "padding": null,
            "right": null,
            "top": null,
            "visibility": null,
            "width": null
          }
        },
        "838e50d69a894116afbdf8ede83a2471": {
          "model_module": "@jupyter-widgets/controls",
          "model_name": "DescriptionStyleModel",
          "model_module_version": "1.5.0",
          "state": {
            "_model_module": "@jupyter-widgets/controls",
            "_model_module_version": "1.5.0",
            "_model_name": "DescriptionStyleModel",
            "_view_count": null,
            "_view_module": "@jupyter-widgets/base",
            "_view_module_version": "1.2.0",
            "_view_name": "StyleView",
            "description_width": ""
          }
        },
        "c7000ef824fe4c35abdedf7f614b76c8": {
          "model_module": "@jupyter-widgets/base",
          "model_name": "LayoutModel",
          "model_module_version": "1.2.0",
          "state": {
            "_model_module": "@jupyter-widgets/base",
            "_model_module_version": "1.2.0",
            "_model_name": "LayoutModel",
            "_view_count": null,
            "_view_module": "@jupyter-widgets/base",
            "_view_module_version": "1.2.0",
            "_view_name": "LayoutView",
            "align_content": null,
            "align_items": null,
            "align_self": null,
            "border": null,
            "bottom": null,
            "display": null,
            "flex": null,
            "flex_flow": null,
            "grid_area": null,
            "grid_auto_columns": null,
            "grid_auto_flow": null,
            "grid_auto_rows": null,
            "grid_column": null,
            "grid_gap": null,
            "grid_row": null,
            "grid_template_areas": null,
            "grid_template_columns": null,
            "grid_template_rows": null,
            "height": null,
            "justify_content": null,
            "justify_items": null,
            "left": null,
            "margin": null,
            "max_height": null,
            "max_width": null,
            "min_height": null,
            "min_width": null,
            "object_fit": null,
            "object_position": null,
            "order": null,
            "overflow": null,
            "overflow_x": null,
            "overflow_y": null,
            "padding": null,
            "right": null,
            "top": null,
            "visibility": null,
            "width": null
          }
        },
        "8b64988579a34ea4980047351ffaf477": {
          "model_module": "@jupyter-widgets/controls",
          "model_name": "ProgressStyleModel",
          "model_module_version": "1.5.0",
          "state": {
            "_model_module": "@jupyter-widgets/controls",
            "_model_module_version": "1.5.0",
            "_model_name": "ProgressStyleModel",
            "_view_count": null,
            "_view_module": "@jupyter-widgets/base",
            "_view_module_version": "1.2.0",
            "_view_name": "StyleView",
            "bar_color": null,
            "description_width": ""
          }
        },
        "795642fef6b54abfb4763b183acaa1ad": {
          "model_module": "@jupyter-widgets/base",
          "model_name": "LayoutModel",
          "model_module_version": "1.2.0",
          "state": {
            "_model_module": "@jupyter-widgets/base",
            "_model_module_version": "1.2.0",
            "_model_name": "LayoutModel",
            "_view_count": null,
            "_view_module": "@jupyter-widgets/base",
            "_view_module_version": "1.2.0",
            "_view_name": "LayoutView",
            "align_content": null,
            "align_items": null,
            "align_self": null,
            "border": null,
            "bottom": null,
            "display": null,
            "flex": null,
            "flex_flow": null,
            "grid_area": null,
            "grid_auto_columns": null,
            "grid_auto_flow": null,
            "grid_auto_rows": null,
            "grid_column": null,
            "grid_gap": null,
            "grid_row": null,
            "grid_template_areas": null,
            "grid_template_columns": null,
            "grid_template_rows": null,
            "height": null,
            "justify_content": null,
            "justify_items": null,
            "left": null,
            "margin": null,
            "max_height": null,
            "max_width": null,
            "min_height": null,
            "min_width": null,
            "object_fit": null,
            "object_position": null,
            "order": null,
            "overflow": null,
            "overflow_x": null,
            "overflow_y": null,
            "padding": null,
            "right": null,
            "top": null,
            "visibility": null,
            "width": null
          }
        },
        "5ebb5bc0cb974bfc934766ab5c36dea1": {
          "model_module": "@jupyter-widgets/controls",
          "model_name": "DescriptionStyleModel",
          "model_module_version": "1.5.0",
          "state": {
            "_model_module": "@jupyter-widgets/controls",
            "_model_module_version": "1.5.0",
            "_model_name": "DescriptionStyleModel",
            "_view_count": null,
            "_view_module": "@jupyter-widgets/base",
            "_view_module_version": "1.2.0",
            "_view_name": "StyleView",
            "description_width": ""
          }
        }
      }
    }
  },
  "cells": [
    {
      "cell_type": "markdown",
      "metadata": {
        "id": "view-in-github",
        "colab_type": "text"
      },
      "source": [
        "<a href=\"https://colab.research.google.com/github/dakilaledesma/arcface-classifier/blob/main/ArcFace_TF2_LayerImp.ipynb\" target=\"_parent\"><img src=\"https://colab.research.google.com/assets/colab-badge.svg\" alt=\"Open In Colab\"/></a>"
      ]
    },
    {
      "cell_type": "code",
      "source": [
        "%%time\n",
        "! unzip -q /content/drive/MyDrive/UNC/H2022/orchidaceae_train.zip -d /content/"
      ],
      "metadata": {
        "colab": {
          "base_uri": "https://localhost:8080/"
        },
        "id": "Gu4GFI1sPLlA",
        "outputId": "302db8c4-23cc-4a2a-a496-d15f187e63cd"
      },
      "execution_count": 1,
      "outputs": [
        {
          "output_type": "stream",
          "name": "stdout",
          "text": [
            "CPU times: user 145 ms, sys: 17 ms, total: 162 ms\n",
            "Wall time: 20.7 s\n"
          ]
        }
      ]
    },
    {
      "cell_type": "code",
      "source": [
        "! pip install tensorflow-addons"
      ],
      "metadata": {
        "colab": {
          "base_uri": "https://localhost:8080/"
        },
        "id": "dNMk9tixPI0v",
        "outputId": "10b971e5-e8c3-41bd-867a-d21a0aa6316e"
      },
      "execution_count": 2,
      "outputs": [
        {
          "output_type": "stream",
          "name": "stdout",
          "text": [
            "Looking in indexes: https://pypi.org/simple, https://us-python.pkg.dev/colab-wheels/public/simple/\n",
            "Collecting tensorflow-addons\n",
            "  Downloading tensorflow_addons-0.17.1-cp37-cp37m-manylinux_2_17_x86_64.manylinux2014_x86_64.whl (1.1 MB)\n",
            "\u001b[K     |████████████████████████████████| 1.1 MB 4.1 MB/s \n",
            "\u001b[?25hRequirement already satisfied: packaging in /usr/local/lib/python3.7/dist-packages (from tensorflow-addons) (21.3)\n",
            "Requirement already satisfied: typeguard>=2.7 in /usr/local/lib/python3.7/dist-packages (from tensorflow-addons) (2.7.1)\n",
            "Requirement already satisfied: pyparsing!=3.0.5,>=2.0.2 in /usr/local/lib/python3.7/dist-packages (from packaging->tensorflow-addons) (3.0.9)\n",
            "Installing collected packages: tensorflow-addons\n",
            "Successfully installed tensorflow-addons-0.17.1\n"
          ]
        }
      ]
    },
    {
      "cell_type": "code",
      "source": [
        "from tensorflow.keras.applications.resnet50 import ResNet50, preprocess_input\n",
        "\n",
        "from tensorflow.keras import backend as K\n",
        "from tensorflow.keras.models import Model\n",
        "from tensorflow.keras.layers import Layer, Dense, Concatenate, Flatten, GlobalAveragePooling2D, Input\n",
        "from tensorflow.keras import regularizers\n",
        "from tensorflow.keras.callbacks import ModelCheckpoint\n",
        "from tensorflow.keras.preprocessing import image\n",
        "from tensorflow.keras.utils import to_categorical\n",
        "\n",
        "import numpy as np\n",
        "\n",
        "import tensorflow_addons as tfa\n",
        "import tensorflow as tf\n",
        "\n",
        "from tqdm.notebook import tqdm\n",
        "from glob import glob\n",
        "import os"
      ],
      "metadata": {
        "id": "IZXvk2iKNEtl"
      },
      "execution_count": 3,
      "outputs": []
    },
    {
      "cell_type": "code",
      "execution_count": 4,
      "metadata": {
        "id": "1V5aOhxOL9yM"
      },
      "outputs": [],
      "source": [
        "# From https://github.com/ozora-ogino/asoftmax-tf/blob/main/asoftmax.py\n",
        "class ASoftmax(tf.keras.layers.Layer):\n",
        "    def __init__(\n",
        "        self,\n",
        "        n_classes=10,\n",
        "        scale=30.0,\n",
        "        margin=0.50,\n",
        "        regularizer=None,\n",
        "        **kwargs,\n",
        "    ):\n",
        "        \"\"\"[ASoftmax]\n",
        "        Args:\n",
        "            n_classes (int, optional): Number of class. Defaults to 10.\n",
        "            scale (float, optional): Float variable for scaling. Defaults to 30.0.\n",
        "            margin (float, optional): Float variable of margin. Defaults to 0.50.\n",
        "            regularizer (function, optional): keras.regularizers. Defaults to None.\n",
        "        \"\"\"\n",
        "\n",
        "        super(ASoftmax, self).__init__(**kwargs)\n",
        "        self.n_classes = n_classes\n",
        "        self.scale = scale\n",
        "        self.margin = margin\n",
        "        self.regularizer = regularizers.get(regularizer)\n",
        "\n",
        "    def build(self, input_shape):\n",
        "        super(ASoftmax, self).build(input_shape[0])\n",
        "        self.W = self.add_weight(\n",
        "            name=\"W\",\n",
        "            shape=(input_shape[0][-1], self.n_classes),\n",
        "            initializer=\"glorot_uniform\",\n",
        "            trainable=True,\n",
        "            regularizer=self.regularizer,\n",
        "        )\n",
        "\n",
        "    def _train_op(self, inputs):\n",
        "        x, y = inputs\n",
        "\n",
        "        # Normalization\n",
        "        x = tf.nn.l2_normalize(x, axis=1)\n",
        "        W = tf.nn.l2_normalize(self.W, axis=0)\n",
        "\n",
        "        # Dot product\n",
        "        logits = x @ W\n",
        "\n",
        "        # Add margin and clip logits to prevent zero division when backward\n",
        "        theta = tf.acos(K.clip(logits, -1.0 + K.epsilon(), 1.0 - K.epsilon()))\n",
        "        target_logits = tf.cos(theta + self.margin)\n",
        "        logits = logits * (1 - y) + target_logits * y\n",
        "\n",
        "        # Rescale the feature\n",
        "        logits *= self.scale\n",
        "        out = tf.nn.softmax(logits)\n",
        "        return out\n",
        "\n",
        "    def _predict_op(self, inputs):\n",
        "        # Normalization\n",
        "        x = tf.nn.l2_normalize(inputs, axis=1)\n",
        "        W = tf.nn.l2_normalize(self.W, axis=0)\n",
        "        logits = x @ W\n",
        "        out = tf.nn.softmax(logits)\n",
        "        return out\n",
        "\n",
        "    def call(self, inputs, training=False):\n",
        "        if training:\n",
        "            out = self._train_op(inputs)\n",
        "        else:\n",
        "            out = self._predict_op(inputs)\n",
        "        return out"
      ]
    },
    {
      "cell_type": "code",
      "source": [
        "num_classes = 300"
      ],
      "metadata": {
        "id": "j3v563jzRMX_"
      },
      "execution_count": 5,
      "outputs": []
    },
    {
      "cell_type": "code",
      "source": [
        "cat_to_int = {}\n",
        "for i, f in enumerate(sorted(glob(\"orchidaceae_train/*\"))):\n",
        "  cat = os.path.basename(f)\n",
        "  cat_to_int[cat] = i"
      ],
      "metadata": {
        "id": "X5V7IuN6RTfR"
      },
      "execution_count": 6,
      "outputs": []
    },
    {
      "cell_type": "code",
      "source": [
        "o = []\n",
        "y = []\n",
        "orc = sorted(glob(\"orchidaceae_train/**/*.*\", recursive=True))\n",
        "for fn in tqdm(orc, total=len(list(orc))):\n",
        "  bn =  os.path.basename(fn)\n",
        "  cat = cat_to_int[fn.split(\"/\")[-2]]\n",
        "\n",
        "  img = image.load_img(fn, target_size=(224, 224))\n",
        "  x = image.img_to_array(img)\n",
        "  x = preprocess_input(x)\n",
        "  o.append(x)\n",
        "\n",
        "  y.append(cat)"
      ],
      "metadata": {
        "colab": {
          "base_uri": "https://localhost:8080/",
          "height": 49,
          "referenced_widgets": [
            "4f787b8b1f0147ca8b0a4af9f1b9ae9a",
            "fe9904562f8c495b88b5ce0ea663d35e",
            "f3abde65f57044ca96cc0635632d0797",
            "9f702446c5c3415db42cf4323d5dc143",
            "4c7d3839ac20424c8b3243653a7389c6",
            "c12b76cc1387458693f9b3050a815f14",
            "838e50d69a894116afbdf8ede83a2471",
            "c7000ef824fe4c35abdedf7f614b76c8",
            "8b64988579a34ea4980047351ffaf477",
            "795642fef6b54abfb4763b183acaa1ad",
            "5ebb5bc0cb974bfc934766ab5c36dea1"
          ]
        },
        "id": "j5yfzXSwRFyl",
        "outputId": "f34da327-658a-4e93-d821-e13302088dc2"
      },
      "execution_count": 7,
      "outputs": [
        {
          "output_type": "display_data",
          "data": {
            "text/plain": [
              "  0%|          | 0/9419 [00:00<?, ?it/s]"
            ],
            "application/vnd.jupyter.widget-view+json": {
              "version_major": 2,
              "version_minor": 0,
              "model_id": "4f787b8b1f0147ca8b0a4af9f1b9ae9a"
            }
          },
          "metadata": {}
        }
      ]
    },
    {
      "cell_type": "code",
      "source": [
        "o = np.array(o)\n",
        "y = to_categorical(y, 300)"
      ],
      "metadata": {
        "id": "vp_pJHB-SvWC"
      },
      "execution_count": 8,
      "outputs": []
    },
    {
      "cell_type": "code",
      "source": [
        "class AFModel(Model):\n",
        "  def __init__(self, num_classes=300, weight_decay=1e-4):\n",
        "        super(AFModel, self).__init__()\n",
        "        self.label_input = Input(shape=(num_classes,))\n",
        "        self.backbone = ResNet50(input_shape=(224, 224, 3), classes=300, weights='imagenet', include_top=False)\n",
        "        self.layer_1 = GlobalAveragePooling2D()\n",
        "        self.layer_2 = Dense(512, activation='relu')\n",
        "\n",
        "        self.out = ASoftmax(\n",
        "            n_classes=num_classes,\n",
        "            regularizer=regularizers.l2(weight_decay),\n",
        "        )\n",
        "\n",
        "  def call(self, x, training=False):\n",
        "      if training:\n",
        "          x, y = x[0], x[1]\n",
        "      x = self.backbone(x)\n",
        "      x = self.layer_1(x)\n",
        "      x = self.layer_2(x)\n",
        "\n",
        "      if training:\n",
        "          # When training, you need to pass label to ASoftmax\n",
        "          out = self.out([x, y])\n",
        "      else:\n",
        "          out = self.out(x)\n",
        "      return out\n",
        "\n",
        "model = AFModel()\n",
        "\n",
        "opt = tfa.optimizers.AdaBelief(learning_rate=1e-3)\n",
        "model.compile(loss='categorical_crossentropy',\n",
        "              optimizer=opt,\n",
        "              metrics=['accuracy'])\n",
        "\n",
        "model.fit([o, y],\n",
        "          y,\n",
        "          batch_size=64,\n",
        "          epochs=24,\n",
        "          verbose=1,\n",
        "          callbacks=[ModelCheckpoint('model.hdf5',\n",
        "                     verbose=1, save_best_only=True)])"
      ],
      "metadata": {
        "colab": {
          "base_uri": "https://localhost:8080/"
        },
        "id": "Wcf78rlfNCbw",
        "outputId": "6388f1d1-b00e-481b-a78f-8712e904f2aa"
      },
      "execution_count": null,
      "outputs": [
        {
          "output_type": "stream",
          "name": "stdout",
          "text": [
            "Downloading data from https://storage.googleapis.com/tensorflow/keras-applications/resnet/resnet50_weights_tf_dim_ordering_tf_kernels_notop.h5\n",
            "94773248/94765736 [==============================] - 4s 0us/step\n",
            "94781440/94765736 [==============================] - 4s 0us/step\n",
            "Epoch 1/24\n",
            "148/148 [==============================] - ETA: 0s - loss: 18.7713 - accuracy: 0.0000e+00WARNING:tensorflow:Can save best model only with val_loss available, skipping.\n",
            "148/148 [==============================] - 89s 238ms/step - loss: 18.7713 - accuracy: 0.0000e+00\n",
            "Epoch 2/24\n",
            " 33/148 [=====>........................] - ETA: 27s - loss: 16.2203 - accuracy: 0.0000e+00"
          ]
        }
      ]
    },
    {
      "cell_type": "code",
      "source": [
        ""
      ],
      "metadata": {
        "id": "fMRw_iR4S9FF"
      },
      "execution_count": null,
      "outputs": []
    }
  ]
}