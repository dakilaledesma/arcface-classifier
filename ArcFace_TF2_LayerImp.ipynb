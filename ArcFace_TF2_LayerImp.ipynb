{
  "nbformat": 4,
  "nbformat_minor": 0,
  "metadata": {
    "colab": {
      "name": "ArcFace_TF2_LayerImp",
      "provenance": [],
      "machine_shape": "hm",
      "mount_file_id": "1fo5rYC51V0mjwF8axJ0f9nSGeBtgtbOj",
      "authorship_tag": "ABX9TyMkao3+NXIlqWlymkb5XUPc",
      "include_colab_link": true
    },
    "kernelspec": {
      "name": "python3",
      "display_name": "Python 3"
    },
    "language_info": {
      "name": "python"
    },
    "accelerator": "GPU",
    "gpuClass": "standard",
    "widgets": {
      "application/vnd.jupyter.widget-state+json": {
        "4f787b8b1f0147ca8b0a4af9f1b9ae9a": {
          "model_module": "@jupyter-widgets/controls",
          "model_name": "HBoxModel",
          "model_module_version": "1.5.0",
          "state": {
            "_dom_classes": [],
            "_model_module": "@jupyter-widgets/controls",
            "_model_module_version": "1.5.0",
            "_model_name": "HBoxModel",
            "_view_count": null,
            "_view_module": "@jupyter-widgets/controls",
            "_view_module_version": "1.5.0",
            "_view_name": "HBoxView",
            "box_style": "",
            "children": [
              "IPY_MODEL_fe9904562f8c495b88b5ce0ea663d35e",
              "IPY_MODEL_f3abde65f57044ca96cc0635632d0797",
              "IPY_MODEL_9f702446c5c3415db42cf4323d5dc143"
            ],
            "layout": "IPY_MODEL_4c7d3839ac20424c8b3243653a7389c6"
          }
        },
        "fe9904562f8c495b88b5ce0ea663d35e": {
          "model_module": "@jupyter-widgets/controls",
          "model_name": "HTMLModel",
          "model_module_version": "1.5.0",
          "state": {
            "_dom_classes": [],
            "_model_module": "@jupyter-widgets/controls",
            "_model_module_version": "1.5.0",
            "_model_name": "HTMLModel",
            "_view_count": null,
            "_view_module": "@jupyter-widgets/controls",
            "_view_module_version": "1.5.0",
            "_view_name": "HTMLView",
            "description": "",
            "description_tooltip": null,
            "layout": "IPY_MODEL_c12b76cc1387458693f9b3050a815f14",
            "placeholder": "​",
            "style": "IPY_MODEL_838e50d69a894116afbdf8ede83a2471",
            "value": "100%"
          }
        },
        "f3abde65f57044ca96cc0635632d0797": {
          "model_module": "@jupyter-widgets/controls",
          "model_name": "FloatProgressModel",
          "model_module_version": "1.5.0",
          "state": {
            "_dom_classes": [],
            "_model_module": "@jupyter-widgets/controls",
            "_model_module_version": "1.5.0",
            "_model_name": "FloatProgressModel",
            "_view_count": null,
            "_view_module": "@jupyter-widgets/controls",
            "_view_module_version": "1.5.0",
            "_view_name": "ProgressView",
            "bar_style": "success",
            "description": "",
            "description_tooltip": null,
            "layout": "IPY_MODEL_c7000ef824fe4c35abdedf7f614b76c8",
            "max": 9419,
            "min": 0,
            "orientation": "horizontal",
            "style": "IPY_MODEL_8b64988579a34ea4980047351ffaf477",
            "value": 9419
          }
        },
        "9f702446c5c3415db42cf4323d5dc143": {
          "model_module": "@jupyter-widgets/controls",
          "model_name": "HTMLModel",
          "model_module_version": "1.5.0",
          "state": {
            "_dom_classes": [],
            "_model_module": "@jupyter-widgets/controls",
            "_model_module_version": "1.5.0",
            "_model_name": "HTMLModel",
            "_view_count": null,
            "_view_module": "@jupyter-widgets/controls",
            "_view_module_version": "1.5.0",
            "_view_name": "HTMLView",
            "description": "",
            "description_tooltip": null,
            "layout": "IPY_MODEL_795642fef6b54abfb4763b183acaa1ad",
            "placeholder": "​",
            "style": "IPY_MODEL_5ebb5bc0cb974bfc934766ab5c36dea1",
            "value": " 9419/9419 [01:46&lt;00:00, 91.81it/s]"
          }
        },
        "4c7d3839ac20424c8b3243653a7389c6": {
          "model_module": "@jupyter-widgets/base",
          "model_name": "LayoutModel",
          "model_module_version": "1.2.0",
          "state": {
            "_model_module": "@jupyter-widgets/base",
            "_model_module_version": "1.2.0",
            "_model_name": "LayoutModel",
            "_view_count": null,
            "_view_module": "@jupyter-widgets/base",
            "_view_module_version": "1.2.0",
            "_view_name": "LayoutView",
            "align_content": null,
            "align_items": null,
            "align_self": null,
            "border": null,
            "bottom": null,
            "display": null,
            "flex": null,
            "flex_flow": null,
            "grid_area": null,
            "grid_auto_columns": null,
            "grid_auto_flow": null,
            "grid_auto_rows": null,
            "grid_column": null,
            "grid_gap": null,
            "grid_row": null,
            "grid_template_areas": null,
            "grid_template_columns": null,
            "grid_template_rows": null,
            "height": null,
            "justify_content": null,
            "justify_items": null,
            "left": null,
            "margin": null,
            "max_height": null,
            "max_width": null,
            "min_height": null,
            "min_width": null,
            "object_fit": null,
            "object_position": null,
            "order": null,
            "overflow": null,
            "overflow_x": null,
            "overflow_y": null,
            "padding": null,
            "right": null,
            "top": null,
            "visibility": null,
            "width": null
          }
        },
        "c12b76cc1387458693f9b3050a815f14": {
          "model_module": "@jupyter-widgets/base",
          "model_name": "LayoutModel",
          "model_module_version": "1.2.0",
          "state": {
            "_model_module": "@jupyter-widgets/base",
            "_model_module_version": "1.2.0",
            "_model_name": "LayoutModel",
            "_view_count": null,
            "_view_module": "@jupyter-widgets/base",
            "_view_module_version": "1.2.0",
            "_view_name": "LayoutView",
            "align_content": null,
            "align_items": null,
            "align_self": null,
            "border": null,
            "bottom": null,
            "display": null,
            "flex": null,
            "flex_flow": null,
            "grid_area": null,
            "grid_auto_columns": null,
            "grid_auto_flow": null,
            "grid_auto_rows": null,
            "grid_column": null,
            "grid_gap": null,
            "grid_row": null,
            "grid_template_areas": null,
            "grid_template_columns": null,
            "grid_template_rows": null,
            "height": null,
            "justify_content": null,
            "justify_items": null,
            "left": null,
            "margin": null,
            "max_height": null,
            "max_width": null,
            "min_height": null,
            "min_width": null,
            "object_fit": null,
            "object_position": null,
            "order": null,
            "overflow": null,
            "overflow_x": null,
            "overflow_y": null,
            "padding": null,
            "right": null,
            "top": null,
            "visibility": null,
            "width": null
          }
        },
        "838e50d69a894116afbdf8ede83a2471": {
          "model_module": "@jupyter-widgets/controls",
          "model_name": "DescriptionStyleModel",
          "model_module_version": "1.5.0",
          "state": {
            "_model_module": "@jupyter-widgets/controls",
            "_model_module_version": "1.5.0",
            "_model_name": "DescriptionStyleModel",
            "_view_count": null,
            "_view_module": "@jupyter-widgets/base",
            "_view_module_version": "1.2.0",
            "_view_name": "StyleView",
            "description_width": ""
          }
        },
        "c7000ef824fe4c35abdedf7f614b76c8": {
          "model_module": "@jupyter-widgets/base",
          "model_name": "LayoutModel",
          "model_module_version": "1.2.0",
          "state": {
            "_model_module": "@jupyter-widgets/base",
            "_model_module_version": "1.2.0",
            "_model_name": "LayoutModel",
            "_view_count": null,
            "_view_module": "@jupyter-widgets/base",
            "_view_module_version": "1.2.0",
            "_view_name": "LayoutView",
            "align_content": null,
            "align_items": null,
            "align_self": null,
            "border": null,
            "bottom": null,
            "display": null,
            "flex": null,
            "flex_flow": null,
            "grid_area": null,
            "grid_auto_columns": null,
            "grid_auto_flow": null,
            "grid_auto_rows": null,
            "grid_column": null,
            "grid_gap": null,
            "grid_row": null,
            "grid_template_areas": null,
            "grid_template_columns": null,
            "grid_template_rows": null,
            "height": null,
            "justify_content": null,
            "justify_items": null,
            "left": null,
            "margin": null,
            "max_height": null,
            "max_width": null,
            "min_height": null,
            "min_width": null,
            "object_fit": null,
            "object_position": null,
            "order": null,
            "overflow": null,
            "overflow_x": null,
            "overflow_y": null,
            "padding": null,
            "right": null,
            "top": null,
            "visibility": null,
            "width": null
          }
        },
        "8b64988579a34ea4980047351ffaf477": {
          "model_module": "@jupyter-widgets/controls",
          "model_name": "ProgressStyleModel",
          "model_module_version": "1.5.0",
          "state": {
            "_model_module": "@jupyter-widgets/controls",
            "_model_module_version": "1.5.0",
            "_model_name": "ProgressStyleModel",
            "_view_count": null,
            "_view_module": "@jupyter-widgets/base",
            "_view_module_version": "1.2.0",
            "_view_name": "StyleView",
            "bar_color": null,
            "description_width": ""
          }
        },
        "795642fef6b54abfb4763b183acaa1ad": {
          "model_module": "@jupyter-widgets/base",
          "model_name": "LayoutModel",
          "model_module_version": "1.2.0",
          "state": {
            "_model_module": "@jupyter-widgets/base",
            "_model_module_version": "1.2.0",
            "_model_name": "LayoutModel",
            "_view_count": null,
            "_view_module": "@jupyter-widgets/base",
            "_view_module_version": "1.2.0",
            "_view_name": "LayoutView",
            "align_content": null,
            "align_items": null,
            "align_self": null,
            "border": null,
            "bottom": null,
            "display": null,
            "flex": null,
            "flex_flow": null,
            "grid_area": null,
            "grid_auto_columns": null,
            "grid_auto_flow": null,
            "grid_auto_rows": null,
            "grid_column": null,
            "grid_gap": null,
            "grid_row": null,
            "grid_template_areas": null,
            "grid_template_columns": null,
            "grid_template_rows": null,
            "height": null,
            "justify_content": null,
            "justify_items": null,
            "left": null,
            "margin": null,
            "max_height": null,
            "max_width": null,
            "min_height": null,
            "min_width": null,
            "object_fit": null,
            "object_position": null,
            "order": null,
            "overflow": null,
            "overflow_x": null,
            "overflow_y": null,
            "padding": null,
            "right": null,
            "top": null,
            "visibility": null,
            "width": null
          }
        },
        "5ebb5bc0cb974bfc934766ab5c36dea1": {
          "model_module": "@jupyter-widgets/controls",
          "model_name": "DescriptionStyleModel",
          "model_module_version": "1.5.0",
          "state": {
            "_model_module": "@jupyter-widgets/controls",
            "_model_module_version": "1.5.0",
            "_model_name": "DescriptionStyleModel",
            "_view_count": null,
            "_view_module": "@jupyter-widgets/base",
            "_view_module_version": "1.2.0",
            "_view_name": "StyleView",
            "description_width": ""
          }
        },
        "423477877fd649738134156c0872c99d": {
          "model_module": "@jupyter-widgets/controls",
          "model_name": "HBoxModel",
          "model_module_version": "1.5.0",
          "state": {
            "_dom_classes": [],
            "_model_module": "@jupyter-widgets/controls",
            "_model_module_version": "1.5.0",
            "_model_name": "HBoxModel",
            "_view_count": null,
            "_view_module": "@jupyter-widgets/controls",
            "_view_module_version": "1.5.0",
            "_view_name": "HBoxView",
            "box_style": "",
            "children": [
              "IPY_MODEL_8eee9df43108489d8c48531a1fe1bd23",
              "IPY_MODEL_3445baf0112f440caa9577554068c61b",
              "IPY_MODEL_22b6e7183aa44467bf34e7bfc98d78f5"
            ],
            "layout": "IPY_MODEL_64f78dff018445afb73ef862e81102e1"
          }
        },
        "8eee9df43108489d8c48531a1fe1bd23": {
          "model_module": "@jupyter-widgets/controls",
          "model_name": "HTMLModel",
          "model_module_version": "1.5.0",
          "state": {
            "_dom_classes": [],
            "_model_module": "@jupyter-widgets/controls",
            "_model_module_version": "1.5.0",
            "_model_name": "HTMLModel",
            "_view_count": null,
            "_view_module": "@jupyter-widgets/controls",
            "_view_module_version": "1.5.0",
            "_view_name": "HTMLView",
            "description": "",
            "description_tooltip": null,
            "layout": "IPY_MODEL_e208c2042f394347859a4881d335902d",
            "placeholder": "​",
            "style": "IPY_MODEL_5d4a214d263e4b638155f31fcfbe217f",
            "value": "100%"
          }
        },
        "3445baf0112f440caa9577554068c61b": {
          "model_module": "@jupyter-widgets/controls",
          "model_name": "FloatProgressModel",
          "model_module_version": "1.5.0",
          "state": {
            "_dom_classes": [],
            "_model_module": "@jupyter-widgets/controls",
            "_model_module_version": "1.5.0",
            "_model_name": "FloatProgressModel",
            "_view_count": null,
            "_view_module": "@jupyter-widgets/controls",
            "_view_module_version": "1.5.0",
            "_view_name": "ProgressView",
            "bar_style": "success",
            "description": "",
            "description_tooltip": null,
            "layout": "IPY_MODEL_0643fd37c4d548ab87edc79a0f1e890d",
            "max": 4577,
            "min": 0,
            "orientation": "horizontal",
            "style": "IPY_MODEL_91c7bdc6d73d46b8b5c2fe836f365c0b",
            "value": 4577
          }
        },
        "22b6e7183aa44467bf34e7bfc98d78f5": {
          "model_module": "@jupyter-widgets/controls",
          "model_name": "HTMLModel",
          "model_module_version": "1.5.0",
          "state": {
            "_dom_classes": [],
            "_model_module": "@jupyter-widgets/controls",
            "_model_module_version": "1.5.0",
            "_model_name": "HTMLModel",
            "_view_count": null,
            "_view_module": "@jupyter-widgets/controls",
            "_view_module_version": "1.5.0",
            "_view_name": "HTMLView",
            "description": "",
            "description_tooltip": null,
            "layout": "IPY_MODEL_0499fcffca5a4e5ca7d7f9ee1b618088",
            "placeholder": "​",
            "style": "IPY_MODEL_9cb7dd077f8f42c982e441e1f326abe5",
            "value": " 4577/4577 [00:56&lt;00:00, 84.53it/s]"
          }
        },
        "64f78dff018445afb73ef862e81102e1": {
          "model_module": "@jupyter-widgets/base",
          "model_name": "LayoutModel",
          "model_module_version": "1.2.0",
          "state": {
            "_model_module": "@jupyter-widgets/base",
            "_model_module_version": "1.2.0",
            "_model_name": "LayoutModel",
            "_view_count": null,
            "_view_module": "@jupyter-widgets/base",
            "_view_module_version": "1.2.0",
            "_view_name": "LayoutView",
            "align_content": null,
            "align_items": null,
            "align_self": null,
            "border": null,
            "bottom": null,
            "display": null,
            "flex": null,
            "flex_flow": null,
            "grid_area": null,
            "grid_auto_columns": null,
            "grid_auto_flow": null,
            "grid_auto_rows": null,
            "grid_column": null,
            "grid_gap": null,
            "grid_row": null,
            "grid_template_areas": null,
            "grid_template_columns": null,
            "grid_template_rows": null,
            "height": null,
            "justify_content": null,
            "justify_items": null,
            "left": null,
            "margin": null,
            "max_height": null,
            "max_width": null,
            "min_height": null,
            "min_width": null,
            "object_fit": null,
            "object_position": null,
            "order": null,
            "overflow": null,
            "overflow_x": null,
            "overflow_y": null,
            "padding": null,
            "right": null,
            "top": null,
            "visibility": null,
            "width": null
          }
        },
        "e208c2042f394347859a4881d335902d": {
          "model_module": "@jupyter-widgets/base",
          "model_name": "LayoutModel",
          "model_module_version": "1.2.0",
          "state": {
            "_model_module": "@jupyter-widgets/base",
            "_model_module_version": "1.2.0",
            "_model_name": "LayoutModel",
            "_view_count": null,
            "_view_module": "@jupyter-widgets/base",
            "_view_module_version": "1.2.0",
            "_view_name": "LayoutView",
            "align_content": null,
            "align_items": null,
            "align_self": null,
            "border": null,
            "bottom": null,
            "display": null,
            "flex": null,
            "flex_flow": null,
            "grid_area": null,
            "grid_auto_columns": null,
            "grid_auto_flow": null,
            "grid_auto_rows": null,
            "grid_column": null,
            "grid_gap": null,
            "grid_row": null,
            "grid_template_areas": null,
            "grid_template_columns": null,
            "grid_template_rows": null,
            "height": null,
            "justify_content": null,
            "justify_items": null,
            "left": null,
            "margin": null,
            "max_height": null,
            "max_width": null,
            "min_height": null,
            "min_width": null,
            "object_fit": null,
            "object_position": null,
            "order": null,
            "overflow": null,
            "overflow_x": null,
            "overflow_y": null,
            "padding": null,
            "right": null,
            "top": null,
            "visibility": null,
            "width": null
          }
        },
        "5d4a214d263e4b638155f31fcfbe217f": {
          "model_module": "@jupyter-widgets/controls",
          "model_name": "DescriptionStyleModel",
          "model_module_version": "1.5.0",
          "state": {
            "_model_module": "@jupyter-widgets/controls",
            "_model_module_version": "1.5.0",
            "_model_name": "DescriptionStyleModel",
            "_view_count": null,
            "_view_module": "@jupyter-widgets/base",
            "_view_module_version": "1.2.0",
            "_view_name": "StyleView",
            "description_width": ""
          }
        },
        "0643fd37c4d548ab87edc79a0f1e890d": {
          "model_module": "@jupyter-widgets/base",
          "model_name": "LayoutModel",
          "model_module_version": "1.2.0",
          "state": {
            "_model_module": "@jupyter-widgets/base",
            "_model_module_version": "1.2.0",
            "_model_name": "LayoutModel",
            "_view_count": null,
            "_view_module": "@jupyter-widgets/base",
            "_view_module_version": "1.2.0",
            "_view_name": "LayoutView",
            "align_content": null,
            "align_items": null,
            "align_self": null,
            "border": null,
            "bottom": null,
            "display": null,
            "flex": null,
            "flex_flow": null,
            "grid_area": null,
            "grid_auto_columns": null,
            "grid_auto_flow": null,
            "grid_auto_rows": null,
            "grid_column": null,
            "grid_gap": null,
            "grid_row": null,
            "grid_template_areas": null,
            "grid_template_columns": null,
            "grid_template_rows": null,
            "height": null,
            "justify_content": null,
            "justify_items": null,
            "left": null,
            "margin": null,
            "max_height": null,
            "max_width": null,
            "min_height": null,
            "min_width": null,
            "object_fit": null,
            "object_position": null,
            "order": null,
            "overflow": null,
            "overflow_x": null,
            "overflow_y": null,
            "padding": null,
            "right": null,
            "top": null,
            "visibility": null,
            "width": null
          }
        },
        "91c7bdc6d73d46b8b5c2fe836f365c0b": {
          "model_module": "@jupyter-widgets/controls",
          "model_name": "ProgressStyleModel",
          "model_module_version": "1.5.0",
          "state": {
            "_model_module": "@jupyter-widgets/controls",
            "_model_module_version": "1.5.0",
            "_model_name": "ProgressStyleModel",
            "_view_count": null,
            "_view_module": "@jupyter-widgets/base",
            "_view_module_version": "1.2.0",
            "_view_name": "StyleView",
            "bar_color": null,
            "description_width": ""
          }
        },
        "0499fcffca5a4e5ca7d7f9ee1b618088": {
          "model_module": "@jupyter-widgets/base",
          "model_name": "LayoutModel",
          "model_module_version": "1.2.0",
          "state": {
            "_model_module": "@jupyter-widgets/base",
            "_model_module_version": "1.2.0",
            "_model_name": "LayoutModel",
            "_view_count": null,
            "_view_module": "@jupyter-widgets/base",
            "_view_module_version": "1.2.0",
            "_view_name": "LayoutView",
            "align_content": null,
            "align_items": null,
            "align_self": null,
            "border": null,
            "bottom": null,
            "display": null,
            "flex": null,
            "flex_flow": null,
            "grid_area": null,
            "grid_auto_columns": null,
            "grid_auto_flow": null,
            "grid_auto_rows": null,
            "grid_column": null,
            "grid_gap": null,
            "grid_row": null,
            "grid_template_areas": null,
            "grid_template_columns": null,
            "grid_template_rows": null,
            "height": null,
            "justify_content": null,
            "justify_items": null,
            "left": null,
            "margin": null,
            "max_height": null,
            "max_width": null,
            "min_height": null,
            "min_width": null,
            "object_fit": null,
            "object_position": null,
            "order": null,
            "overflow": null,
            "overflow_x": null,
            "overflow_y": null,
            "padding": null,
            "right": null,
            "top": null,
            "visibility": null,
            "width": null
          }
        },
        "9cb7dd077f8f42c982e441e1f326abe5": {
          "model_module": "@jupyter-widgets/controls",
          "model_name": "DescriptionStyleModel",
          "model_module_version": "1.5.0",
          "state": {
            "_model_module": "@jupyter-widgets/controls",
            "_model_module_version": "1.5.0",
            "_model_name": "DescriptionStyleModel",
            "_view_count": null,
            "_view_module": "@jupyter-widgets/base",
            "_view_module_version": "1.2.0",
            "_view_name": "StyleView",
            "description_width": ""
          }
        },
        "d511dc00a736460880cc63cc42abc61e": {
          "model_module": "@jupyter-widgets/controls",
          "model_name": "HBoxModel",
          "model_module_version": "1.5.0",
          "state": {
            "_dom_classes": [],
            "_model_module": "@jupyter-widgets/controls",
            "_model_module_version": "1.5.0",
            "_model_name": "HBoxModel",
            "_view_count": null,
            "_view_module": "@jupyter-widgets/controls",
            "_view_module_version": "1.5.0",
            "_view_name": "HBoxView",
            "box_style": "",
            "children": [
              "IPY_MODEL_492be5d537af49a3a12f549a51d2911d",
              "IPY_MODEL_18ad81faa10346fc9082b90473af0071",
              "IPY_MODEL_f206f639f5e1464b8d14ea0578a90e1a"
            ],
            "layout": "IPY_MODEL_31e7d8fb06514783a22af0364562e1fa"
          }
        },
        "492be5d537af49a3a12f549a51d2911d": {
          "model_module": "@jupyter-widgets/controls",
          "model_name": "HTMLModel",
          "model_module_version": "1.5.0",
          "state": {
            "_dom_classes": [],
            "_model_module": "@jupyter-widgets/controls",
            "_model_module_version": "1.5.0",
            "_model_name": "HTMLModel",
            "_view_count": null,
            "_view_module": "@jupyter-widgets/controls",
            "_view_module_version": "1.5.0",
            "_view_name": "HTMLView",
            "description": "",
            "description_tooltip": null,
            "layout": "IPY_MODEL_58f315bbf1f242a0b2a1f5decca84a16",
            "placeholder": "​",
            "style": "IPY_MODEL_5642deec2b5d45d99a9d0805a1455996",
            "value": "100%"
          }
        },
        "18ad81faa10346fc9082b90473af0071": {
          "model_module": "@jupyter-widgets/controls",
          "model_name": "FloatProgressModel",
          "model_module_version": "1.5.0",
          "state": {
            "_dom_classes": [],
            "_model_module": "@jupyter-widgets/controls",
            "_model_module_version": "1.5.0",
            "_model_name": "FloatProgressModel",
            "_view_count": null,
            "_view_module": "@jupyter-widgets/controls",
            "_view_module_version": "1.5.0",
            "_view_name": "ProgressView",
            "bar_style": "success",
            "description": "",
            "description_tooltip": null,
            "layout": "IPY_MODEL_0082919913c34f4986dad82c0d35ab22",
            "max": 4577,
            "min": 0,
            "orientation": "horizontal",
            "style": "IPY_MODEL_0cb7ecf2b6784086b367bb1f8043f28f",
            "value": 4577
          }
        },
        "f206f639f5e1464b8d14ea0578a90e1a": {
          "model_module": "@jupyter-widgets/controls",
          "model_name": "HTMLModel",
          "model_module_version": "1.5.0",
          "state": {
            "_dom_classes": [],
            "_model_module": "@jupyter-widgets/controls",
            "_model_module_version": "1.5.0",
            "_model_name": "HTMLModel",
            "_view_count": null,
            "_view_module": "@jupyter-widgets/controls",
            "_view_module_version": "1.5.0",
            "_view_name": "HTMLView",
            "description": "",
            "description_tooltip": null,
            "layout": "IPY_MODEL_cbf597b7c153407f8542b177d3eade3f",
            "placeholder": "​",
            "style": "IPY_MODEL_6236fed986764534a39749632978b50e",
            "value": " 4577/4577 [05:11&lt;00:00, 15.00it/s]"
          }
        },
        "31e7d8fb06514783a22af0364562e1fa": {
          "model_module": "@jupyter-widgets/base",
          "model_name": "LayoutModel",
          "model_module_version": "1.2.0",
          "state": {
            "_model_module": "@jupyter-widgets/base",
            "_model_module_version": "1.2.0",
            "_model_name": "LayoutModel",
            "_view_count": null,
            "_view_module": "@jupyter-widgets/base",
            "_view_module_version": "1.2.0",
            "_view_name": "LayoutView",
            "align_content": null,
            "align_items": null,
            "align_self": null,
            "border": null,
            "bottom": null,
            "display": null,
            "flex": null,
            "flex_flow": null,
            "grid_area": null,
            "grid_auto_columns": null,
            "grid_auto_flow": null,
            "grid_auto_rows": null,
            "grid_column": null,
            "grid_gap": null,
            "grid_row": null,
            "grid_template_areas": null,
            "grid_template_columns": null,
            "grid_template_rows": null,
            "height": null,
            "justify_content": null,
            "justify_items": null,
            "left": null,
            "margin": null,
            "max_height": null,
            "max_width": null,
            "min_height": null,
            "min_width": null,
            "object_fit": null,
            "object_position": null,
            "order": null,
            "overflow": null,
            "overflow_x": null,
            "overflow_y": null,
            "padding": null,
            "right": null,
            "top": null,
            "visibility": null,
            "width": null
          }
        },
        "58f315bbf1f242a0b2a1f5decca84a16": {
          "model_module": "@jupyter-widgets/base",
          "model_name": "LayoutModel",
          "model_module_version": "1.2.0",
          "state": {
            "_model_module": "@jupyter-widgets/base",
            "_model_module_version": "1.2.0",
            "_model_name": "LayoutModel",
            "_view_count": null,
            "_view_module": "@jupyter-widgets/base",
            "_view_module_version": "1.2.0",
            "_view_name": "LayoutView",
            "align_content": null,
            "align_items": null,
            "align_self": null,
            "border": null,
            "bottom": null,
            "display": null,
            "flex": null,
            "flex_flow": null,
            "grid_area": null,
            "grid_auto_columns": null,
            "grid_auto_flow": null,
            "grid_auto_rows": null,
            "grid_column": null,
            "grid_gap": null,
            "grid_row": null,
            "grid_template_areas": null,
            "grid_template_columns": null,
            "grid_template_rows": null,
            "height": null,
            "justify_content": null,
            "justify_items": null,
            "left": null,
            "margin": null,
            "max_height": null,
            "max_width": null,
            "min_height": null,
            "min_width": null,
            "object_fit": null,
            "object_position": null,
            "order": null,
            "overflow": null,
            "overflow_x": null,
            "overflow_y": null,
            "padding": null,
            "right": null,
            "top": null,
            "visibility": null,
            "width": null
          }
        },
        "5642deec2b5d45d99a9d0805a1455996": {
          "model_module": "@jupyter-widgets/controls",
          "model_name": "DescriptionStyleModel",
          "model_module_version": "1.5.0",
          "state": {
            "_model_module": "@jupyter-widgets/controls",
            "_model_module_version": "1.5.0",
            "_model_name": "DescriptionStyleModel",
            "_view_count": null,
            "_view_module": "@jupyter-widgets/base",
            "_view_module_version": "1.2.0",
            "_view_name": "StyleView",
            "description_width": ""
          }
        },
        "0082919913c34f4986dad82c0d35ab22": {
          "model_module": "@jupyter-widgets/base",
          "model_name": "LayoutModel",
          "model_module_version": "1.2.0",
          "state": {
            "_model_module": "@jupyter-widgets/base",
            "_model_module_version": "1.2.0",
            "_model_name": "LayoutModel",
            "_view_count": null,
            "_view_module": "@jupyter-widgets/base",
            "_view_module_version": "1.2.0",
            "_view_name": "LayoutView",
            "align_content": null,
            "align_items": null,
            "align_self": null,
            "border": null,
            "bottom": null,
            "display": null,
            "flex": null,
            "flex_flow": null,
            "grid_area": null,
            "grid_auto_columns": null,
            "grid_auto_flow": null,
            "grid_auto_rows": null,
            "grid_column": null,
            "grid_gap": null,
            "grid_row": null,
            "grid_template_areas": null,
            "grid_template_columns": null,
            "grid_template_rows": null,
            "height": null,
            "justify_content": null,
            "justify_items": null,
            "left": null,
            "margin": null,
            "max_height": null,
            "max_width": null,
            "min_height": null,
            "min_width": null,
            "object_fit": null,
            "object_position": null,
            "order": null,
            "overflow": null,
            "overflow_x": null,
            "overflow_y": null,
            "padding": null,
            "right": null,
            "top": null,
            "visibility": null,
            "width": null
          }
        },
        "0cb7ecf2b6784086b367bb1f8043f28f": {
          "model_module": "@jupyter-widgets/controls",
          "model_name": "ProgressStyleModel",
          "model_module_version": "1.5.0",
          "state": {
            "_model_module": "@jupyter-widgets/controls",
            "_model_module_version": "1.5.0",
            "_model_name": "ProgressStyleModel",
            "_view_count": null,
            "_view_module": "@jupyter-widgets/base",
            "_view_module_version": "1.2.0",
            "_view_name": "StyleView",
            "bar_color": null,
            "description_width": ""
          }
        },
        "cbf597b7c153407f8542b177d3eade3f": {
          "model_module": "@jupyter-widgets/base",
          "model_name": "LayoutModel",
          "model_module_version": "1.2.0",
          "state": {
            "_model_module": "@jupyter-widgets/base",
            "_model_module_version": "1.2.0",
            "_model_name": "LayoutModel",
            "_view_count": null,
            "_view_module": "@jupyter-widgets/base",
            "_view_module_version": "1.2.0",
            "_view_name": "LayoutView",
            "align_content": null,
            "align_items": null,
            "align_self": null,
            "border": null,
            "bottom": null,
            "display": null,
            "flex": null,
            "flex_flow": null,
            "grid_area": null,
            "grid_auto_columns": null,
            "grid_auto_flow": null,
            "grid_auto_rows": null,
            "grid_column": null,
            "grid_gap": null,
            "grid_row": null,
            "grid_template_areas": null,
            "grid_template_columns": null,
            "grid_template_rows": null,
            "height": null,
            "justify_content": null,
            "justify_items": null,
            "left": null,
            "margin": null,
            "max_height": null,
            "max_width": null,
            "min_height": null,
            "min_width": null,
            "object_fit": null,
            "object_position": null,
            "order": null,
            "overflow": null,
            "overflow_x": null,
            "overflow_y": null,
            "padding": null,
            "right": null,
            "top": null,
            "visibility": null,
            "width": null
          }
        },
        "6236fed986764534a39749632978b50e": {
          "model_module": "@jupyter-widgets/controls",
          "model_name": "DescriptionStyleModel",
          "model_module_version": "1.5.0",
          "state": {
            "_model_module": "@jupyter-widgets/controls",
            "_model_module_version": "1.5.0",
            "_model_name": "DescriptionStyleModel",
            "_view_count": null,
            "_view_module": "@jupyter-widgets/base",
            "_view_module_version": "1.2.0",
            "_view_name": "StyleView",
            "description_width": ""
          }
        }
      }
    }
  },
  "cells": [
    {
      "cell_type": "markdown",
      "metadata": {
        "id": "view-in-github",
        "colab_type": "text"
      },
      "source": [
        "<a href=\"https://colab.research.google.com/github/dakilaledesma/arcface-classifier/blob/main/ArcFace_TF2_LayerImp.ipynb\" target=\"_parent\"><img src=\"https://colab.research.google.com/assets/colab-badge.svg\" alt=\"Open In Colab\"/></a>"
      ]
    },
    {
      "cell_type": "code",
      "source": [
        "%%time\n",
        "! unzip -q /content/drive/MyDrive/UNC/H2022/orchidaceae_train.zip -d /content/"
      ],
      "metadata": {
        "colab": {
          "base_uri": "https://localhost:8080/"
        },
        "id": "Gu4GFI1sPLlA",
        "outputId": "302db8c4-23cc-4a2a-a496-d15f187e63cd"
      },
      "execution_count": 1,
      "outputs": [
        {
          "output_type": "stream",
          "name": "stdout",
          "text": [
            "CPU times: user 145 ms, sys: 17 ms, total: 162 ms\n",
            "Wall time: 20.7 s\n"
          ]
        }
      ]
    },
    {
      "cell_type": "code",
      "source": [
        "! pip install tensorflow-addons"
      ],
      "metadata": {
        "colab": {
          "base_uri": "https://localhost:8080/"
        },
        "id": "dNMk9tixPI0v",
        "outputId": "10b971e5-e8c3-41bd-867a-d21a0aa6316e"
      },
      "execution_count": 2,
      "outputs": [
        {
          "output_type": "stream",
          "name": "stdout",
          "text": [
            "Looking in indexes: https://pypi.org/simple, https://us-python.pkg.dev/colab-wheels/public/simple/\n",
            "Collecting tensorflow-addons\n",
            "  Downloading tensorflow_addons-0.17.1-cp37-cp37m-manylinux_2_17_x86_64.manylinux2014_x86_64.whl (1.1 MB)\n",
            "\u001b[K     |████████████████████████████████| 1.1 MB 4.1 MB/s \n",
            "\u001b[?25hRequirement already satisfied: packaging in /usr/local/lib/python3.7/dist-packages (from tensorflow-addons) (21.3)\n",
            "Requirement already satisfied: typeguard>=2.7 in /usr/local/lib/python3.7/dist-packages (from tensorflow-addons) (2.7.1)\n",
            "Requirement already satisfied: pyparsing!=3.0.5,>=2.0.2 in /usr/local/lib/python3.7/dist-packages (from packaging->tensorflow-addons) (3.0.9)\n",
            "Installing collected packages: tensorflow-addons\n",
            "Successfully installed tensorflow-addons-0.17.1\n"
          ]
        }
      ]
    },
    {
      "cell_type": "code",
      "source": [
        "from tensorflow.keras.applications.resnet50 import ResNet50, preprocess_input\n",
        "\n",
        "from tensorflow.keras import backend as K\n",
        "from tensorflow.keras.models import Model\n",
        "from tensorflow.keras.layers import Layer, Dense, Concatenate, Flatten, GlobalAveragePooling2D, Input\n",
        "from tensorflow.keras import regularizers\n",
        "from tensorflow.keras.callbacks import ModelCheckpoint\n",
        "from tensorflow.keras.preprocessing import image\n",
        "from tensorflow.keras.utils import to_categorical\n",
        "from sklearn.metrics import accuracy_score\n",
        "\n",
        "import numpy as np\n",
        "\n",
        "import tensorflow_addons as tfa\n",
        "import tensorflow as tf\n",
        "\n",
        "from tqdm.notebook import tqdm\n",
        "from glob import glob\n",
        "import os"
      ],
      "metadata": {
        "id": "IZXvk2iKNEtl"
      },
      "execution_count": 13,
      "outputs": []
    },
    {
      "cell_type": "code",
      "execution_count": 4,
      "metadata": {
        "id": "1V5aOhxOL9yM"
      },
      "outputs": [],
      "source": [
        "# From https://github.com/ozora-ogino/asoftmax-tf/blob/main/asoftmax.py\n",
        "class ASoftmax(tf.keras.layers.Layer):\n",
        "    def __init__(\n",
        "        self,\n",
        "        n_classes=10,\n",
        "        scale=30.0,\n",
        "        margin=0.50,\n",
        "        regularizer=None,\n",
        "        **kwargs,\n",
        "    ):\n",
        "        \"\"\"[ASoftmax]\n",
        "        Args:\n",
        "            n_classes (int, optional): Number of class. Defaults to 10.\n",
        "            scale (float, optional): Float variable for scaling. Defaults to 30.0.\n",
        "            margin (float, optional): Float variable of margin. Defaults to 0.50.\n",
        "            regularizer (function, optional): keras.regularizers. Defaults to None.\n",
        "        \"\"\"\n",
        "\n",
        "        super(ASoftmax, self).__init__(**kwargs)\n",
        "        self.n_classes = n_classes\n",
        "        self.scale = scale\n",
        "        self.margin = margin\n",
        "        self.regularizer = regularizers.get(regularizer)\n",
        "\n",
        "    def build(self, input_shape):\n",
        "        super(ASoftmax, self).build(input_shape[0])\n",
        "        self.W = self.add_weight(\n",
        "            name=\"W\",\n",
        "            shape=(input_shape[0][-1], self.n_classes),\n",
        "            initializer=\"glorot_uniform\",\n",
        "            trainable=True,\n",
        "            regularizer=self.regularizer,\n",
        "        )\n",
        "\n",
        "    def _train_op(self, inputs):\n",
        "        x, y = inputs\n",
        "\n",
        "        # Normalization\n",
        "        x = tf.nn.l2_normalize(x, axis=1)\n",
        "        W = tf.nn.l2_normalize(self.W, axis=0)\n",
        "\n",
        "        # Dot product\n",
        "        logits = x @ W\n",
        "\n",
        "        # Add margin and clip logits to prevent zero division when backward\n",
        "        theta = tf.acos(K.clip(logits, -1.0 + K.epsilon(), 1.0 - K.epsilon()))\n",
        "        target_logits = tf.cos(theta + self.margin)\n",
        "        logits = logits * (1 - y) + target_logits * y\n",
        "\n",
        "        # Rescale the feature\n",
        "        logits *= self.scale\n",
        "        out = tf.nn.softmax(logits)\n",
        "        return out\n",
        "\n",
        "    def _predict_op(self, inputs):\n",
        "        # Normalization\n",
        "        x = tf.nn.l2_normalize(inputs, axis=1)\n",
        "        W = tf.nn.l2_normalize(self.W, axis=0)\n",
        "        logits = x @ W\n",
        "        out = tf.nn.softmax(logits)\n",
        "        return out\n",
        "\n",
        "    def call(self, inputs, training=False):\n",
        "        if training:\n",
        "            out = self._train_op(inputs)\n",
        "        else:\n",
        "            out = self._predict_op(inputs)\n",
        "        return out"
      ]
    },
    {
      "cell_type": "code",
      "source": [
        "num_classes = 300"
      ],
      "metadata": {
        "id": "j3v563jzRMX_"
      },
      "execution_count": 5,
      "outputs": []
    },
    {
      "cell_type": "code",
      "source": [
        "cat_to_int = {}\n",
        "for i, f in enumerate(sorted(glob(\"orchidaceae_train/*\"))):\n",
        "  cat = os.path.basename(f)\n",
        "  cat_to_int[cat] = i"
      ],
      "metadata": {
        "id": "X5V7IuN6RTfR"
      },
      "execution_count": 6,
      "outputs": []
    },
    {
      "cell_type": "code",
      "source": [
        "o = []\n",
        "y = []\n",
        "orc = sorted(glob(\"orchidaceae_train/**/*.*\", recursive=True))\n",
        "for fn in tqdm(orc, total=len(list(orc))):\n",
        "  bn =  os.path.basename(fn)\n",
        "  cat = cat_to_int[fn.split(\"/\")[-2]]\n",
        "\n",
        "  img = image.load_img(fn, target_size=(224, 224))\n",
        "  x = image.img_to_array(img)\n",
        "  x = preprocess_input(x)\n",
        "  o.append(x)\n",
        "\n",
        "  y.append(cat)"
      ],
      "metadata": {
        "colab": {
          "base_uri": "https://localhost:8080/",
          "height": 49,
          "referenced_widgets": [
            "4f787b8b1f0147ca8b0a4af9f1b9ae9a",
            "fe9904562f8c495b88b5ce0ea663d35e",
            "f3abde65f57044ca96cc0635632d0797",
            "9f702446c5c3415db42cf4323d5dc143",
            "4c7d3839ac20424c8b3243653a7389c6",
            "c12b76cc1387458693f9b3050a815f14",
            "838e50d69a894116afbdf8ede83a2471",
            "c7000ef824fe4c35abdedf7f614b76c8",
            "8b64988579a34ea4980047351ffaf477",
            "795642fef6b54abfb4763b183acaa1ad",
            "5ebb5bc0cb974bfc934766ab5c36dea1"
          ]
        },
        "id": "j5yfzXSwRFyl",
        "outputId": "f34da327-658a-4e93-d821-e13302088dc2"
      },
      "execution_count": 7,
      "outputs": [
        {
          "output_type": "display_data",
          "data": {
            "text/plain": [
              "  0%|          | 0/9419 [00:00<?, ?it/s]"
            ],
            "application/vnd.jupyter.widget-view+json": {
              "version_major": 2,
              "version_minor": 0,
              "model_id": "4f787b8b1f0147ca8b0a4af9f1b9ae9a"
            }
          },
          "metadata": {}
        }
      ]
    },
    {
      "cell_type": "code",
      "source": [
        "o = np.array(o)\n",
        "y = to_categorical(y, 300)"
      ],
      "metadata": {
        "id": "vp_pJHB-SvWC"
      },
      "execution_count": 8,
      "outputs": []
    },
    {
      "cell_type": "code",
      "source": [
        "class AFModel(Model):\n",
        "  def __init__(self, num_classes=300, weight_decay=1e-4):\n",
        "        super(AFModel, self).__init__()\n",
        "        self.label_input = Input(shape=(num_classes,))\n",
        "        self.backbone = ResNet50(input_shape=(224, 224, 3), classes=300, weights='imagenet', include_top=False)\n",
        "        self.layer_1 = GlobalAveragePooling2D()\n",
        "        self.layer_2 = Dense(512, activation='relu')\n",
        "\n",
        "        self.out = ASoftmax(\n",
        "            n_classes=num_classes,\n",
        "            regularizer=regularizers.l2(weight_decay),\n",
        "        )\n",
        "\n",
        "  def call(self, x, training=False):\n",
        "      if training:\n",
        "          x, y = x[0], x[1]\n",
        "      x = self.backbone(x)\n",
        "      x = self.layer_1(x)\n",
        "      x = self.layer_2(x)\n",
        "\n",
        "      if training:\n",
        "          # When training, you need to pass label to ASoftmax\n",
        "          out = self.out([x, y])\n",
        "      else:\n",
        "          out = self.out(x)\n",
        "      return out\n",
        "\n",
        "model = AFModel()\n",
        "\n",
        "opt = tfa.optimizers.AdaBelief(learning_rate=1e-3)\n",
        "model.compile(loss='categorical_crossentropy',\n",
        "              optimizer=opt,\n",
        "              metrics=['accuracy'])\n",
        "\n",
        "model.fit([o, y],\n",
        "          y,\n",
        "          batch_size=64,\n",
        "          epochs=24,\n",
        "          verbose=1,\n",
        "          callbacks=[ModelCheckpoint('model.hdf5',\n",
        "                     verbose=1, save_best_only=True)])"
      ],
      "metadata": {
        "colab": {
          "base_uri": "https://localhost:8080/"
        },
        "id": "Wcf78rlfNCbw",
        "outputId": "6388f1d1-b00e-481b-a78f-8712e904f2aa"
      },
      "execution_count": 9,
      "outputs": [
        {
          "output_type": "stream",
          "name": "stdout",
          "text": [
            "Downloading data from https://storage.googleapis.com/tensorflow/keras-applications/resnet/resnet50_weights_tf_dim_ordering_tf_kernels_notop.h5\n",
            "94773248/94765736 [==============================] - 4s 0us/step\n",
            "94781440/94765736 [==============================] - 4s 0us/step\n",
            "Epoch 1/24\n",
            "148/148 [==============================] - ETA: 0s - loss: 18.7713 - accuracy: 0.0000e+00WARNING:tensorflow:Can save best model only with val_loss available, skipping.\n",
            "148/148 [==============================] - 89s 238ms/step - loss: 18.7713 - accuracy: 0.0000e+00\n",
            "Epoch 2/24\n",
            "148/148 [==============================] - ETA: 0s - loss: 15.8097 - accuracy: 0.0057WARNING:tensorflow:Can save best model only with val_loss available, skipping.\n",
            "148/148 [==============================] - 35s 235ms/step - loss: 15.8097 - accuracy: 0.0057\n",
            "Epoch 3/24\n",
            "148/148 [==============================] - ETA: 0s - loss: 13.9487 - accuracy: 0.0512WARNING:tensorflow:Can save best model only with val_loss available, skipping.\n",
            "148/148 [==============================] - 35s 234ms/step - loss: 13.9487 - accuracy: 0.0512\n",
            "Epoch 4/24\n",
            "148/148 [==============================] - ETA: 0s - loss: 12.4421 - accuracy: 0.1207WARNING:tensorflow:Can save best model only with val_loss available, skipping.\n",
            "148/148 [==============================] - 35s 236ms/step - loss: 12.4421 - accuracy: 0.1207\n",
            "Epoch 5/24\n",
            "148/148 [==============================] - ETA: 0s - loss: 11.1274 - accuracy: 0.1861WARNING:tensorflow:Can save best model only with val_loss available, skipping.\n",
            "148/148 [==============================] - 35s 236ms/step - loss: 11.1274 - accuracy: 0.1861\n",
            "Epoch 6/24\n",
            "148/148 [==============================] - ETA: 0s - loss: 9.6240 - accuracy: 0.2712WARNING:tensorflow:Can save best model only with val_loss available, skipping.\n",
            "148/148 [==============================] - 35s 236ms/step - loss: 9.6240 - accuracy: 0.2712\n",
            "Epoch 7/24\n",
            "148/148 [==============================] - ETA: 0s - loss: 8.3956 - accuracy: 0.3346WARNING:tensorflow:Can save best model only with val_loss available, skipping.\n",
            "148/148 [==============================] - 35s 237ms/step - loss: 8.3956 - accuracy: 0.3346\n",
            "Epoch 8/24\n",
            "148/148 [==============================] - ETA: 0s - loss: 7.0464 - accuracy: 0.4162WARNING:tensorflow:Can save best model only with val_loss available, skipping.\n",
            "148/148 [==============================] - 35s 235ms/step - loss: 7.0464 - accuracy: 0.4162\n",
            "Epoch 9/24\n",
            "148/148 [==============================] - ETA: 0s - loss: 6.0487 - accuracy: 0.4787WARNING:tensorflow:Can save best model only with val_loss available, skipping.\n",
            "148/148 [==============================] - 35s 237ms/step - loss: 6.0487 - accuracy: 0.4787\n",
            "Epoch 10/24\n",
            "148/148 [==============================] - ETA: 0s - loss: 4.9489 - accuracy: 0.5491WARNING:tensorflow:Can save best model only with val_loss available, skipping.\n",
            "148/148 [==============================] - 35s 236ms/step - loss: 4.9489 - accuracy: 0.5491\n",
            "Epoch 11/24\n",
            "148/148 [==============================] - ETA: 0s - loss: 4.1868 - accuracy: 0.6027WARNING:tensorflow:Can save best model only with val_loss available, skipping.\n",
            "148/148 [==============================] - 35s 236ms/step - loss: 4.1868 - accuracy: 0.6027\n",
            "Epoch 12/24\n",
            "148/148 [==============================] - ETA: 0s - loss: 3.5791 - accuracy: 0.6442WARNING:tensorflow:Can save best model only with val_loss available, skipping.\n",
            "148/148 [==============================] - 35s 236ms/step - loss: 3.5791 - accuracy: 0.6442\n",
            "Epoch 13/24\n",
            "148/148 [==============================] - ETA: 0s - loss: 2.9082 - accuracy: 0.6954WARNING:tensorflow:Can save best model only with val_loss available, skipping.\n",
            "148/148 [==============================] - 35s 236ms/step - loss: 2.9082 - accuracy: 0.6954\n",
            "Epoch 14/24\n",
            "148/148 [==============================] - ETA: 0s - loss: 2.2173 - accuracy: 0.7508WARNING:tensorflow:Can save best model only with val_loss available, skipping.\n",
            "148/148 [==============================] - 35s 237ms/step - loss: 2.2173 - accuracy: 0.7508\n",
            "Epoch 15/24\n",
            "148/148 [==============================] - ETA: 0s - loss: 1.9186 - accuracy: 0.7717WARNING:tensorflow:Can save best model only with val_loss available, skipping.\n",
            "148/148 [==============================] - 35s 236ms/step - loss: 1.9186 - accuracy: 0.7717\n",
            "Epoch 16/24\n",
            "148/148 [==============================] - ETA: 0s - loss: 1.6501 - accuracy: 0.8010WARNING:tensorflow:Can save best model only with val_loss available, skipping.\n",
            "148/148 [==============================] - 35s 236ms/step - loss: 1.6501 - accuracy: 0.8010\n",
            "Epoch 17/24\n",
            "148/148 [==============================] - ETA: 0s - loss: 1.2286 - accuracy: 0.8455WARNING:tensorflow:Can save best model only with val_loss available, skipping.\n",
            "148/148 [==============================] - 35s 236ms/step - loss: 1.2286 - accuracy: 0.8455\n",
            "Epoch 18/24\n",
            "148/148 [==============================] - ETA: 0s - loss: 1.0487 - accuracy: 0.8603WARNING:tensorflow:Can save best model only with val_loss available, skipping.\n",
            "148/148 [==============================] - 35s 235ms/step - loss: 1.0487 - accuracy: 0.8603\n",
            "Epoch 19/24\n",
            "148/148 [==============================] - ETA: 0s - loss: 1.3710 - accuracy: 0.8248WARNING:tensorflow:Can save best model only with val_loss available, skipping.\n",
            "148/148 [==============================] - 35s 235ms/step - loss: 1.3710 - accuracy: 0.8248\n",
            "Epoch 20/24\n",
            "148/148 [==============================] - ETA: 0s - loss: 1.1062 - accuracy: 0.8582WARNING:tensorflow:Can save best model only with val_loss available, skipping.\n",
            "148/148 [==============================] - 35s 236ms/step - loss: 1.1062 - accuracy: 0.8582\n",
            "Epoch 21/24\n",
            "148/148 [==============================] - ETA: 0s - loss: 0.8480 - accuracy: 0.8834WARNING:tensorflow:Can save best model only with val_loss available, skipping.\n",
            "148/148 [==============================] - 35s 237ms/step - loss: 0.8480 - accuracy: 0.8834\n",
            "Epoch 22/24\n",
            "148/148 [==============================] - ETA: 0s - loss: 0.7601 - accuracy: 0.9005WARNING:tensorflow:Can save best model only with val_loss available, skipping.\n",
            "148/148 [==============================] - 35s 235ms/step - loss: 0.7601 - accuracy: 0.9005\n",
            "Epoch 23/24\n",
            "148/148 [==============================] - ETA: 0s - loss: 0.8008 - accuracy: 0.8943WARNING:tensorflow:Can save best model only with val_loss available, skipping.\n",
            "148/148 [==============================] - 35s 236ms/step - loss: 0.8008 - accuracy: 0.8943\n",
            "Epoch 24/24\n",
            "148/148 [==============================] - ETA: 0s - loss: 0.7532 - accuracy: 0.8946WARNING:tensorflow:Can save best model only with val_loss available, skipping.\n",
            "148/148 [==============================] - 35s 235ms/step - loss: 0.7532 - accuracy: 0.8946\n"
          ]
        },
        {
          "output_type": "execute_result",
          "data": {
            "text/plain": [
              "<keras.callbacks.History at 0x7f994a360410>"
            ]
          },
          "metadata": {},
          "execution_count": 9
        }
      ]
    },
    {
      "cell_type": "code",
      "source": [
        "%%time\n",
        "! unzip -q /content/drive/MyDrive/UNC/H2022/orchidaceae_test.zip -d /content/"
      ],
      "metadata": {
        "id": "fMRw_iR4S9FF",
        "colab": {
          "base_uri": "https://localhost:8080/"
        },
        "outputId": "0cd5afa6-b780-4c83-b9ae-678d4997beda"
      },
      "execution_count": 26,
      "outputs": [
        {
          "output_type": "stream",
          "name": "stdout",
          "text": [
            "CPU times: user 75.9 ms, sys: 754 ms, total: 830 ms\n",
            "Wall time: 11.3 s\n"
          ]
        }
      ]
    },
    {
      "cell_type": "code",
      "source": [
        "test_x = []\n",
        "test_y = []\n",
        "orc_test = sorted(glob(\"orchidaceae_test/**/*.*\", recursive=True))\n",
        "for fn in tqdm(orc_test, total=len(list(orc_test))):\n",
        "  bn =  os.path.basename(fn)\n",
        "  cat = cat_to_int[fn.split(\"/\")[-2]]\n",
        "\n",
        "  img = image.load_img(fn, target_size=(224, 224))\n",
        "  x = image.img_to_array(img)\n",
        "  x = preprocess_input(x)\n",
        "  test_x.append(x)\n",
        "\n",
        "  test_y.append(cat)"
      ],
      "metadata": {
        "colab": {
          "base_uri": "https://localhost:8080/",
          "height": 49,
          "referenced_widgets": [
            "423477877fd649738134156c0872c99d",
            "8eee9df43108489d8c48531a1fe1bd23",
            "3445baf0112f440caa9577554068c61b",
            "22b6e7183aa44467bf34e7bfc98d78f5",
            "64f78dff018445afb73ef862e81102e1",
            "e208c2042f394347859a4881d335902d",
            "5d4a214d263e4b638155f31fcfbe217f",
            "0643fd37c4d548ab87edc79a0f1e890d",
            "91c7bdc6d73d46b8b5c2fe836f365c0b",
            "0499fcffca5a4e5ca7d7f9ee1b618088",
            "9cb7dd077f8f42c982e441e1f326abe5"
          ]
        },
        "id": "U9NaToo2wHaQ",
        "outputId": "f917d5c6-b9bd-48c2-ccf9-a716b1e05a9d"
      },
      "execution_count": 28,
      "outputs": [
        {
          "output_type": "display_data",
          "data": {
            "text/plain": [
              "  0%|          | 0/4577 [00:00<?, ?it/s]"
            ],
            "application/vnd.jupyter.widget-view+json": {
              "version_major": 2,
              "version_minor": 0,
              "model_id": "423477877fd649738134156c0872c99d"
            }
          },
          "metadata": {}
        }
      ]
    },
    {
      "cell_type": "code",
      "source": [
        "test_x = np.array(test_x)"
      ],
      "metadata": {
        "id": "aOwn-kZG0LwR"
      },
      "execution_count": 29,
      "outputs": []
    },
    {
      "cell_type": "code",
      "source": [
        "preds = []\n",
        "for idx, im in tqdm(enumerate(test_x), total=len(test_x)):\n",
        "  im = np.expand_dims(im, 0)\n",
        "  pred = np.argmax(model(im))\n",
        "  preds.append(pred)"
      ],
      "metadata": {
        "colab": {
          "base_uri": "https://localhost:8080/",
          "height": 49,
          "referenced_widgets": [
            "d511dc00a736460880cc63cc42abc61e",
            "492be5d537af49a3a12f549a51d2911d",
            "18ad81faa10346fc9082b90473af0071",
            "f206f639f5e1464b8d14ea0578a90e1a",
            "31e7d8fb06514783a22af0364562e1fa",
            "58f315bbf1f242a0b2a1f5decca84a16",
            "5642deec2b5d45d99a9d0805a1455996",
            "0082919913c34f4986dad82c0d35ab22",
            "0cb7ecf2b6784086b367bb1f8043f28f",
            "cbf597b7c153407f8542b177d3eade3f",
            "6236fed986764534a39749632978b50e"
          ]
        },
        "id": "i4vArwUX0239",
        "outputId": "ac344ddd-71e4-4b10-ff1e-2f10f845322d"
      },
      "execution_count": 30,
      "outputs": [
        {
          "output_type": "display_data",
          "data": {
            "text/plain": [
              "  0%|          | 0/4577 [00:00<?, ?it/s]"
            ],
            "application/vnd.jupyter.widget-view+json": {
              "version_major": 2,
              "version_minor": 0,
              "model_id": "d511dc00a736460880cc63cc42abc61e"
            }
          },
          "metadata": {}
        }
      ]
    },
    {
      "cell_type": "code",
      "source": [
        "# Accuracy on training data\n",
        "print(accuracy_score(test_y, preds))"
      ],
      "metadata": {
        "colab": {
          "base_uri": "https://localhost:8080/"
        },
        "id": "DrZDkCzb1fXx",
        "outputId": "3fbc5a5a-5cec-41d4-b528-89b18d420640"
      },
      "execution_count": 22,
      "outputs": [
        {
          "output_type": "stream",
          "name": "stdout",
          "text": [
            "0.9553031107336235\n"
          ]
        }
      ]
    },
    {
      "cell_type": "code",
      "source": [
        "# Accuracy on test data\n",
        "print(accuracy_score(test_y, preds))"
      ],
      "metadata": {
        "colab": {
          "base_uri": "https://localhost:8080/"
        },
        "id": "dwdj1xst4dmW",
        "outputId": "f6a9e3a1-df04-4526-a0a3-6cd5405fbad2"
      },
      "execution_count": 31,
      "outputs": [
        {
          "output_type": "stream",
          "name": "stdout",
          "text": [
            "0.5147476512999781\n"
          ]
        }
      ]
    },
    {
      "cell_type": "code",
      "source": [
        ""
      ],
      "metadata": {
        "id": "f1EaXfPv48sA"
      },
      "execution_count": null,
      "outputs": []
    }
  ]
}